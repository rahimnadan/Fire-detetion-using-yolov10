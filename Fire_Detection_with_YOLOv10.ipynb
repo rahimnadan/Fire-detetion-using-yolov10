{
  "nbformat": 4,
  "nbformat_minor": 0,
  "metadata": {
    "colab": {
      "provenance": [],
      "gpuType": "T4",
      "authorship_tag": "ABX9TyOXUvioFtIN0RGTiAisjguh",
      "include_colab_link": true
    },
    "kernelspec": {
      "name": "python3",
      "display_name": "Python 3"
    },
    "language_info": {
      "name": "python"
    },
    "accelerator": "GPU"
  },
  "cells": [
    {
      "cell_type": "markdown",
      "metadata": {
        "id": "view-in-github",
        "colab_type": "text"
      },
      "source": [
        "<a href=\"https://colab.research.google.com/github/rahimnadan/Fire-detetion-using-yolov10/blob/main/Fire_Detection_with_YOLOv10.ipynb\" target=\"_parent\"><img src=\"https://colab.research.google.com/assets/colab-badge.svg\" alt=\"Open In Colab\"/></a>"
      ]
    },
    {
      "cell_type": "code",
      "source": [
        "!pip install roboflow\n",
        "\n",
        "from roboflow import Roboflow\n",
        "rf = Roboflow(api_key=\"1x3O53Q64XkGdnzQpWE0\")\n",
        "project = rf.workspace(\"fire-detection-kagpm\").project(\"fire-dettection\")\n",
        "version = project.version(2)\n",
        "dataset = version.download(\"yolov9\")"
      ],
      "metadata": {
        "colab": {
          "base_uri": "https://localhost:8080/"
        },
        "id": "Yy-ltQwuj9UG",
        "outputId": "8c5f69f5-aa0b-4302-ae0e-608eec52cb29"
      },
      "execution_count": 1,
      "outputs": [
        {
          "output_type": "stream",
          "name": "stdout",
          "text": [
            "Collecting roboflow\n",
            "  Downloading roboflow-1.1.45-py3-none-any.whl.metadata (9.7 kB)\n",
            "Requirement already satisfied: certifi in /usr/local/lib/python3.10/dist-packages (from roboflow) (2024.8.30)\n",
            "Collecting idna==3.7 (from roboflow)\n",
            "  Downloading idna-3.7-py3-none-any.whl.metadata (9.9 kB)\n",
            "Requirement already satisfied: cycler in /usr/local/lib/python3.10/dist-packages (from roboflow) (0.12.1)\n",
            "Requirement already satisfied: kiwisolver>=1.3.1 in /usr/local/lib/python3.10/dist-packages (from roboflow) (1.4.7)\n",
            "Requirement already satisfied: matplotlib in /usr/local/lib/python3.10/dist-packages (from roboflow) (3.7.1)\n",
            "Requirement already satisfied: numpy>=1.18.5 in /usr/local/lib/python3.10/dist-packages (from roboflow) (1.26.4)\n",
            "Requirement already satisfied: opencv-python-headless==4.10.0.84 in /usr/local/lib/python3.10/dist-packages (from roboflow) (4.10.0.84)\n",
            "Requirement already satisfied: Pillow>=7.1.2 in /usr/local/lib/python3.10/dist-packages (from roboflow) (10.4.0)\n",
            "Requirement already satisfied: python-dateutil in /usr/local/lib/python3.10/dist-packages (from roboflow) (2.8.2)\n",
            "Collecting python-dotenv (from roboflow)\n",
            "  Downloading python_dotenv-1.0.1-py3-none-any.whl.metadata (23 kB)\n",
            "Requirement already satisfied: requests in /usr/local/lib/python3.10/dist-packages (from roboflow) (2.32.3)\n",
            "Requirement already satisfied: six in /usr/local/lib/python3.10/dist-packages (from roboflow) (1.16.0)\n",
            "Requirement already satisfied: urllib3>=1.26.6 in /usr/local/lib/python3.10/dist-packages (from roboflow) (2.2.3)\n",
            "Requirement already satisfied: tqdm>=4.41.0 in /usr/local/lib/python3.10/dist-packages (from roboflow) (4.66.5)\n",
            "Requirement already satisfied: PyYAML>=5.3.1 in /usr/local/lib/python3.10/dist-packages (from roboflow) (6.0.2)\n",
            "Collecting requests-toolbelt (from roboflow)\n",
            "  Downloading requests_toolbelt-1.0.0-py2.py3-none-any.whl.metadata (14 kB)\n",
            "Collecting filetype (from roboflow)\n",
            "  Downloading filetype-1.2.0-py2.py3-none-any.whl.metadata (6.5 kB)\n",
            "Requirement already satisfied: contourpy>=1.0.1 in /usr/local/lib/python3.10/dist-packages (from matplotlib->roboflow) (1.3.0)\n",
            "Requirement already satisfied: fonttools>=4.22.0 in /usr/local/lib/python3.10/dist-packages (from matplotlib->roboflow) (4.53.1)\n",
            "Requirement already satisfied: packaging>=20.0 in /usr/local/lib/python3.10/dist-packages (from matplotlib->roboflow) (24.1)\n",
            "Requirement already satisfied: pyparsing>=2.3.1 in /usr/local/lib/python3.10/dist-packages (from matplotlib->roboflow) (3.1.4)\n",
            "Requirement already satisfied: charset-normalizer<4,>=2 in /usr/local/lib/python3.10/dist-packages (from requests->roboflow) (3.3.2)\n",
            "Downloading roboflow-1.1.45-py3-none-any.whl (80 kB)\n",
            "\u001b[2K   \u001b[90m━━━━━━━━━━━━━━━━━━━━━━━━━━━━━━━━━━━━━━━━\u001b[0m \u001b[32m80.3/80.3 kB\u001b[0m \u001b[31m5.6 MB/s\u001b[0m eta \u001b[36m0:00:00\u001b[0m\n",
            "\u001b[?25hDownloading idna-3.7-py3-none-any.whl (66 kB)\n",
            "\u001b[2K   \u001b[90m━━━━━━━━━━━━━━━━━━━━━━━━━━━━━━━━━━━━━━━━\u001b[0m \u001b[32m66.8/66.8 kB\u001b[0m \u001b[31m6.6 MB/s\u001b[0m eta \u001b[36m0:00:00\u001b[0m\n",
            "\u001b[?25hDownloading filetype-1.2.0-py2.py3-none-any.whl (19 kB)\n",
            "Downloading python_dotenv-1.0.1-py3-none-any.whl (19 kB)\n",
            "Downloading requests_toolbelt-1.0.0-py2.py3-none-any.whl (54 kB)\n",
            "\u001b[2K   \u001b[90m━━━━━━━━━━━━━━━━━━━━━━━━━━━━━━━━━━━━━━━━\u001b[0m \u001b[32m54.5/54.5 kB\u001b[0m \u001b[31m5.4 MB/s\u001b[0m eta \u001b[36m0:00:00\u001b[0m\n",
            "\u001b[?25hInstalling collected packages: filetype, python-dotenv, idna, requests-toolbelt, roboflow\n",
            "  Attempting uninstall: idna\n",
            "    Found existing installation: idna 3.10\n",
            "    Uninstalling idna-3.10:\n",
            "      Successfully uninstalled idna-3.10\n",
            "Successfully installed filetype-1.2.0 idna-3.7 python-dotenv-1.0.1 requests-toolbelt-1.0.0 roboflow-1.1.45\n",
            "loading Roboflow workspace...\n",
            "loading Roboflow project...\n"
          ]
        },
        {
          "output_type": "stream",
          "name": "stderr",
          "text": [
            "Downloading Dataset Version Zip in Fire-Dettection-2 to yolov9:: 100%|██████████| 36371/36371 [00:01<00:00, 29082.95it/s]"
          ]
        },
        {
          "output_type": "stream",
          "name": "stdout",
          "text": [
            "\n"
          ]
        },
        {
          "output_type": "stream",
          "name": "stderr",
          "text": [
            "\n",
            "Extracting Dataset Version Zip to Fire-Dettection-2 in yolov9:: 100%|██████████| 1514/1514 [00:00<00:00, 7243.54it/s]\n"
          ]
        }
      ]
    },
    {
      "cell_type": "code",
      "source": [
        "pip install ultralytics"
      ],
      "metadata": {
        "colab": {
          "base_uri": "https://localhost:8080/"
        },
        "id": "EYOvhrxNj9Dj",
        "outputId": "f4a96986-f0d3-4a85-d99c-f6198e315db6"
      },
      "execution_count": 2,
      "outputs": [
        {
          "output_type": "stream",
          "name": "stdout",
          "text": [
            "Collecting ultralytics\n",
            "  Downloading ultralytics-8.2.101-py3-none-any.whl.metadata (39 kB)\n",
            "Requirement already satisfied: numpy<2.0.0,>=1.23.0 in /usr/local/lib/python3.10/dist-packages (from ultralytics) (1.26.4)\n",
            "Requirement already satisfied: matplotlib>=3.3.0 in /usr/local/lib/python3.10/dist-packages (from ultralytics) (3.7.1)\n",
            "Requirement already satisfied: opencv-python>=4.6.0 in /usr/local/lib/python3.10/dist-packages (from ultralytics) (4.10.0.84)\n",
            "Requirement already satisfied: pillow>=7.1.2 in /usr/local/lib/python3.10/dist-packages (from ultralytics) (10.4.0)\n",
            "Requirement already satisfied: pyyaml>=5.3.1 in /usr/local/lib/python3.10/dist-packages (from ultralytics) (6.0.2)\n",
            "Requirement already satisfied: requests>=2.23.0 in /usr/local/lib/python3.10/dist-packages (from ultralytics) (2.32.3)\n",
            "Requirement already satisfied: scipy>=1.4.1 in /usr/local/lib/python3.10/dist-packages (from ultralytics) (1.13.1)\n",
            "Requirement already satisfied: torch>=1.8.0 in /usr/local/lib/python3.10/dist-packages (from ultralytics) (2.4.1+cu121)\n",
            "Requirement already satisfied: torchvision>=0.9.0 in /usr/local/lib/python3.10/dist-packages (from ultralytics) (0.19.1+cu121)\n",
            "Requirement already satisfied: tqdm>=4.64.0 in /usr/local/lib/python3.10/dist-packages (from ultralytics) (4.66.5)\n",
            "Requirement already satisfied: psutil in /usr/local/lib/python3.10/dist-packages (from ultralytics) (5.9.5)\n",
            "Requirement already satisfied: py-cpuinfo in /usr/local/lib/python3.10/dist-packages (from ultralytics) (9.0.0)\n",
            "Requirement already satisfied: pandas>=1.1.4 in /usr/local/lib/python3.10/dist-packages (from ultralytics) (2.1.4)\n",
            "Requirement already satisfied: seaborn>=0.11.0 in /usr/local/lib/python3.10/dist-packages (from ultralytics) (0.13.1)\n",
            "Collecting ultralytics-thop>=2.0.0 (from ultralytics)\n",
            "  Downloading ultralytics_thop-2.0.8-py3-none-any.whl.metadata (9.3 kB)\n",
            "Requirement already satisfied: contourpy>=1.0.1 in /usr/local/lib/python3.10/dist-packages (from matplotlib>=3.3.0->ultralytics) (1.3.0)\n",
            "Requirement already satisfied: cycler>=0.10 in /usr/local/lib/python3.10/dist-packages (from matplotlib>=3.3.0->ultralytics) (0.12.1)\n",
            "Requirement already satisfied: fonttools>=4.22.0 in /usr/local/lib/python3.10/dist-packages (from matplotlib>=3.3.0->ultralytics) (4.53.1)\n",
            "Requirement already satisfied: kiwisolver>=1.0.1 in /usr/local/lib/python3.10/dist-packages (from matplotlib>=3.3.0->ultralytics) (1.4.7)\n",
            "Requirement already satisfied: packaging>=20.0 in /usr/local/lib/python3.10/dist-packages (from matplotlib>=3.3.0->ultralytics) (24.1)\n",
            "Requirement already satisfied: pyparsing>=2.3.1 in /usr/local/lib/python3.10/dist-packages (from matplotlib>=3.3.0->ultralytics) (3.1.4)\n",
            "Requirement already satisfied: python-dateutil>=2.7 in /usr/local/lib/python3.10/dist-packages (from matplotlib>=3.3.0->ultralytics) (2.8.2)\n",
            "Requirement already satisfied: pytz>=2020.1 in /usr/local/lib/python3.10/dist-packages (from pandas>=1.1.4->ultralytics) (2024.2)\n",
            "Requirement already satisfied: tzdata>=2022.1 in /usr/local/lib/python3.10/dist-packages (from pandas>=1.1.4->ultralytics) (2024.1)\n",
            "Requirement already satisfied: charset-normalizer<4,>=2 in /usr/local/lib/python3.10/dist-packages (from requests>=2.23.0->ultralytics) (3.3.2)\n",
            "Requirement already satisfied: idna<4,>=2.5 in /usr/local/lib/python3.10/dist-packages (from requests>=2.23.0->ultralytics) (3.7)\n",
            "Requirement already satisfied: urllib3<3,>=1.21.1 in /usr/local/lib/python3.10/dist-packages (from requests>=2.23.0->ultralytics) (2.2.3)\n",
            "Requirement already satisfied: certifi>=2017.4.17 in /usr/local/lib/python3.10/dist-packages (from requests>=2.23.0->ultralytics) (2024.8.30)\n",
            "Requirement already satisfied: filelock in /usr/local/lib/python3.10/dist-packages (from torch>=1.8.0->ultralytics) (3.16.1)\n",
            "Requirement already satisfied: typing-extensions>=4.8.0 in /usr/local/lib/python3.10/dist-packages (from torch>=1.8.0->ultralytics) (4.12.2)\n",
            "Requirement already satisfied: sympy in /usr/local/lib/python3.10/dist-packages (from torch>=1.8.0->ultralytics) (1.13.3)\n",
            "Requirement already satisfied: networkx in /usr/local/lib/python3.10/dist-packages (from torch>=1.8.0->ultralytics) (3.3)\n",
            "Requirement already satisfied: jinja2 in /usr/local/lib/python3.10/dist-packages (from torch>=1.8.0->ultralytics) (3.1.4)\n",
            "Requirement already satisfied: fsspec in /usr/local/lib/python3.10/dist-packages (from torch>=1.8.0->ultralytics) (2024.6.1)\n",
            "Requirement already satisfied: six>=1.5 in /usr/local/lib/python3.10/dist-packages (from python-dateutil>=2.7->matplotlib>=3.3.0->ultralytics) (1.16.0)\n",
            "Requirement already satisfied: MarkupSafe>=2.0 in /usr/local/lib/python3.10/dist-packages (from jinja2->torch>=1.8.0->ultralytics) (2.1.5)\n",
            "Requirement already satisfied: mpmath<1.4,>=1.1.0 in /usr/local/lib/python3.10/dist-packages (from sympy->torch>=1.8.0->ultralytics) (1.3.0)\n",
            "Downloading ultralytics-8.2.101-py3-none-any.whl (874 kB)\n",
            "\u001b[2K   \u001b[90m━━━━━━━━━━━━━━━━━━━━━━━━━━━━━━━━━━━━━━━━\u001b[0m \u001b[32m874.1/874.1 kB\u001b[0m \u001b[31m22.9 MB/s\u001b[0m eta \u001b[36m0:00:00\u001b[0m\n",
            "\u001b[?25hDownloading ultralytics_thop-2.0.8-py3-none-any.whl (26 kB)\n",
            "Installing collected packages: ultralytics-thop, ultralytics\n",
            "Successfully installed ultralytics-8.2.101 ultralytics-thop-2.0.8\n"
          ]
        }
      ]
    },
    {
      "cell_type": "code",
      "source": [],
      "metadata": {
        "id": "CnCXDwL-l5rS"
      },
      "execution_count": null,
      "outputs": []
    },
    {
      "cell_type": "code",
      "source": [],
      "metadata": {
        "id": "gP7Nzt7Cj8tT"
      },
      "execution_count": null,
      "outputs": []
    },
    {
      "cell_type": "code",
      "execution_count": 4,
      "metadata": {
        "colab": {
          "base_uri": "https://localhost:8080/"
        },
        "id": "somc2jUBj4On",
        "outputId": "05b230bd-84f9-45a0-a600-c151bbeca353"
      },
      "outputs": [
        {
          "output_type": "stream",
          "name": "stdout",
          "text": [
            "Ultralytics YOLOv8.2.101 🚀 Python-3.10.12 torch-2.4.1+cu121 CUDA:0 (Tesla T4, 15102MiB)\n",
            "\u001b[34m\u001b[1mengine/trainer: \u001b[0mtask=detect, mode=train, model=yolov10n.pt, data=/content/Fire-Dettection-2/data.yaml, epochs=30, time=None, patience=100, batch=16, imgsz=640, save=True, save_period=-1, cache=False, device=None, workers=8, project=None, name=train2, exist_ok=False, pretrained=True, optimizer=auto, verbose=True, seed=0, deterministic=True, single_cls=False, rect=False, cos_lr=False, close_mosaic=10, resume=False, amp=True, fraction=1.0, profile=False, freeze=None, multi_scale=False, overlap_mask=True, mask_ratio=4, dropout=0.0, val=True, split=val, save_json=False, save_hybrid=False, conf=None, iou=0.7, max_det=300, half=False, dnn=False, plots=True, source=None, vid_stride=1, stream_buffer=False, visualize=False, augment=False, agnostic_nms=False, classes=None, retina_masks=False, embed=None, show=False, save_frames=False, save_txt=False, save_conf=False, save_crop=False, show_labels=True, show_conf=True, show_boxes=True, line_width=None, format=torchscript, keras=False, optimize=False, int8=False, dynamic=False, simplify=True, opset=None, workspace=4, nms=False, lr0=0.01, lrf=0.01, momentum=0.937, weight_decay=0.0005, warmup_epochs=3.0, warmup_momentum=0.8, warmup_bias_lr=0.1, box=7.5, cls=0.5, dfl=1.5, pose=12.0, kobj=1.0, label_smoothing=0.0, nbs=64, hsv_h=0.015, hsv_s=0.7, hsv_v=0.4, degrees=0.0, translate=0.1, scale=0.5, shear=0.0, perspective=0.0, flipud=0.0, fliplr=0.5, bgr=0.0, mosaic=1.0, mixup=0.0, copy_paste=0.0, auto_augment=randaugment, erasing=0.4, crop_fraction=1.0, cfg=None, tracker=botsort.yaml, save_dir=runs/detect/train2\n",
            "Downloading https://ultralytics.com/assets/Arial.ttf to '/root/.config/Ultralytics/Arial.ttf'...\n"
          ]
        },
        {
          "output_type": "stream",
          "name": "stderr",
          "text": [
            "100%|██████████| 755k/755k [00:00<00:00, 20.1MB/s]\n"
          ]
        },
        {
          "output_type": "stream",
          "name": "stdout",
          "text": [
            "Overriding model.yaml nc=80 with nc=1\n",
            "\n",
            "                   from  n    params  module                                       arguments                     \n",
            "  0                  -1  1       464  ultralytics.nn.modules.conv.Conv             [3, 16, 3, 2]                 \n",
            "  1                  -1  1      4672  ultralytics.nn.modules.conv.Conv             [16, 32, 3, 2]                \n",
            "  2                  -1  1      7360  ultralytics.nn.modules.block.C2f             [32, 32, 1, True]             \n",
            "  3                  -1  1     18560  ultralytics.nn.modules.conv.Conv             [32, 64, 3, 2]                \n",
            "  4                  -1  2     49664  ultralytics.nn.modules.block.C2f             [64, 64, 2, True]             \n",
            "  5                  -1  1      9856  ultralytics.nn.modules.block.SCDown          [64, 128, 3, 2]               \n",
            "  6                  -1  2    197632  ultralytics.nn.modules.block.C2f             [128, 128, 2, True]           \n",
            "  7                  -1  1     36096  ultralytics.nn.modules.block.SCDown          [128, 256, 3, 2]              \n",
            "  8                  -1  1    460288  ultralytics.nn.modules.block.C2f             [256, 256, 1, True]           \n",
            "  9                  -1  1    164608  ultralytics.nn.modules.block.SPPF            [256, 256, 5]                 \n",
            " 10                  -1  1    249728  ultralytics.nn.modules.block.PSA             [256, 256]                    \n",
            " 11                  -1  1         0  torch.nn.modules.upsampling.Upsample         [None, 2, 'nearest']          \n",
            " 12             [-1, 6]  1         0  ultralytics.nn.modules.conv.Concat           [1]                           \n",
            " 13                  -1  1    148224  ultralytics.nn.modules.block.C2f             [384, 128, 1]                 \n",
            " 14                  -1  1         0  torch.nn.modules.upsampling.Upsample         [None, 2, 'nearest']          \n",
            " 15             [-1, 4]  1         0  ultralytics.nn.modules.conv.Concat           [1]                           \n",
            " 16                  -1  1     37248  ultralytics.nn.modules.block.C2f             [192, 64, 1]                  \n",
            " 17                  -1  1     36992  ultralytics.nn.modules.conv.Conv             [64, 64, 3, 2]                \n",
            " 18            [-1, 13]  1         0  ultralytics.nn.modules.conv.Concat           [1]                           \n",
            " 19                  -1  1    123648  ultralytics.nn.modules.block.C2f             [192, 128, 1]                 \n",
            " 20                  -1  1     18048  ultralytics.nn.modules.block.SCDown          [128, 128, 3, 2]              \n",
            " 21            [-1, 10]  1         0  ultralytics.nn.modules.conv.Concat           [1]                           \n",
            " 22                  -1  1    282624  ultralytics.nn.modules.block.C2fCIB          [384, 256, 1, True, True]     \n",
            " 23        [16, 19, 22]  1    861718  ultralytics.nn.modules.head.v10Detect        [1, [64, 128, 256]]           \n",
            "YOLOv10n summary: 385 layers, 2,707,430 parameters, 2,707,414 gradients, 8.4 GFLOPs\n",
            "\n",
            "Transferred 493/595 items from pretrained weights\n",
            "\u001b[34m\u001b[1mTensorBoard: \u001b[0mStart with 'tensorboard --logdir runs/detect/train2', view at http://localhost:6006/\n",
            "Freezing layer 'model.23.dfl.conv.weight'\n",
            "\u001b[34m\u001b[1mAMP: \u001b[0mrunning Automatic Mixed Precision (AMP) checks with YOLOv8n...\n",
            "Downloading https://github.com/ultralytics/assets/releases/download/v8.2.0/yolov8n.pt to 'yolov8n.pt'...\n"
          ]
        },
        {
          "output_type": "stream",
          "name": "stderr",
          "text": [
            "100%|██████████| 6.25M/6.25M [00:00<00:00, 104MB/s]\n"
          ]
        },
        {
          "output_type": "stream",
          "name": "stdout",
          "text": [
            "\u001b[34m\u001b[1mAMP: \u001b[0mchecks passed ✅\n"
          ]
        },
        {
          "output_type": "stream",
          "name": "stderr",
          "text": [
            "\u001b[34m\u001b[1mtrain: \u001b[0mScanning /content/Fire-Dettection-2/train/labels... 525 images, 0 backgrounds, 0 corrupt: 100%|██████████| 525/525 [00:00<00:00, 1827.90it/s]"
          ]
        },
        {
          "output_type": "stream",
          "name": "stdout",
          "text": [
            "\u001b[34m\u001b[1mtrain: \u001b[0mNew cache created: /content/Fire-Dettection-2/train/labels.cache\n"
          ]
        },
        {
          "output_type": "stream",
          "name": "stderr",
          "text": [
            "\n"
          ]
        },
        {
          "output_type": "stream",
          "name": "stdout",
          "text": [
            "\u001b[34m\u001b[1malbumentations: \u001b[0mBlur(p=0.01, blur_limit=(3, 7)), MedianBlur(p=0.01, blur_limit=(3, 7)), ToGray(p=0.01, num_output_channels=3, method='weighted_average'), CLAHE(p=0.01, clip_limit=(1, 4.0), tile_grid_size=(8, 8))\n"
          ]
        },
        {
          "output_type": "stream",
          "name": "stderr",
          "text": [
            "A new version of Albumentations is available: 1.4.16 (you have 1.4.15). Upgrade using: pip install -U albumentations. To disable automatic update checks, set the environment variable NO_ALBUMENTATIONS_UPDATE to 1.\n",
            "\u001b[34m\u001b[1mval: \u001b[0mScanning /content/Fire-Dettection-2/valid/labels... 149 images, 0 backgrounds, 0 corrupt: 100%|██████████| 149/149 [00:00<00:00, 1325.12it/s]\n"
          ]
        },
        {
          "output_type": "stream",
          "name": "stdout",
          "text": [
            "\u001b[34m\u001b[1mval: \u001b[0mNew cache created: /content/Fire-Dettection-2/valid/labels.cache\n",
            "Plotting labels to runs/detect/train2/labels.jpg... \n",
            "\u001b[34m\u001b[1moptimizer:\u001b[0m 'optimizer=auto' found, ignoring 'lr0=0.01' and 'momentum=0.937' and determining best 'optimizer', 'lr0' and 'momentum' automatically... \n",
            "\u001b[34m\u001b[1moptimizer:\u001b[0m AdamW(lr=0.002, momentum=0.9) with parameter groups 95 weight(decay=0.0), 108 weight(decay=0.0005), 107 bias(decay=0.0)\n",
            "\u001b[34m\u001b[1mTensorBoard: \u001b[0mmodel graph visualization added ✅\n",
            "Image sizes 640 train, 640 val\n",
            "Using 2 dataloader workers\n",
            "Logging results to \u001b[1mruns/detect/train2\u001b[0m\n",
            "Starting training for 30 epochs...\n",
            "\n",
            "      Epoch    GPU_mem   box_loss   cls_loss   dfl_loss  Instances       Size\n"
          ]
        },
        {
          "output_type": "stream",
          "name": "stderr",
          "text": [
            "       1/30      3.02G      1.587      6.854      2.221         43        640: 100%|██████████| 33/33 [00:15<00:00,  2.14it/s]\n",
            "                 Class     Images  Instances      Box(P          R      mAP50  mAP50-95): 100%|██████████| 5/5 [00:02<00:00,  1.95it/s]"
          ]
        },
        {
          "output_type": "stream",
          "name": "stdout",
          "text": [
            "                   all        149        287    0.00526      0.819      0.424      0.377\n"
          ]
        },
        {
          "output_type": "stream",
          "name": "stderr",
          "text": [
            "\n"
          ]
        },
        {
          "output_type": "stream",
          "name": "stdout",
          "text": [
            "\n",
            "      Epoch    GPU_mem   box_loss   cls_loss   dfl_loss  Instances       Size\n"
          ]
        },
        {
          "output_type": "stream",
          "name": "stderr",
          "text": [
            "       2/30      2.98G      1.335      4.677      1.952         32        640: 100%|██████████| 33/33 [00:12<00:00,  2.74it/s]\n",
            "                 Class     Images  Instances      Box(P          R      mAP50  mAP50-95): 100%|██████████| 5/5 [00:02<00:00,  2.37it/s]"
          ]
        },
        {
          "output_type": "stream",
          "name": "stdout",
          "text": [
            "                   all        149        287        0.7      0.146      0.324      0.206\n"
          ]
        },
        {
          "output_type": "stream",
          "name": "stderr",
          "text": [
            "\n"
          ]
        },
        {
          "output_type": "stream",
          "name": "stdout",
          "text": [
            "\n",
            "      Epoch    GPU_mem   box_loss   cls_loss   dfl_loss  Instances       Size\n"
          ]
        },
        {
          "output_type": "stream",
          "name": "stderr",
          "text": [
            "       3/30      2.98G      1.376      4.012      1.978         32        640: 100%|██████████| 33/33 [00:09<00:00,  3.39it/s]\n",
            "                 Class     Images  Instances      Box(P          R      mAP50  mAP50-95): 100%|██████████| 5/5 [00:01<00:00,  2.60it/s]"
          ]
        },
        {
          "output_type": "stream",
          "name": "stdout",
          "text": [
            "                   all        149        287      0.667      0.592       0.66      0.474\n"
          ]
        },
        {
          "output_type": "stream",
          "name": "stderr",
          "text": [
            "\n"
          ]
        },
        {
          "output_type": "stream",
          "name": "stdout",
          "text": [
            "\n",
            "      Epoch    GPU_mem   box_loss   cls_loss   dfl_loss  Instances       Size\n"
          ]
        },
        {
          "output_type": "stream",
          "name": "stderr",
          "text": [
            "       4/30      2.98G      1.381      3.364       1.98         40        640: 100%|██████████| 33/33 [00:11<00:00,  2.93it/s]\n",
            "                 Class     Images  Instances      Box(P          R      mAP50  mAP50-95): 100%|██████████| 5/5 [00:01<00:00,  4.29it/s]\n"
          ]
        },
        {
          "output_type": "stream",
          "name": "stdout",
          "text": [
            "                   all        149        287      0.632      0.641      0.675      0.547\n",
            "\n",
            "      Epoch    GPU_mem   box_loss   cls_loss   dfl_loss  Instances       Size\n"
          ]
        },
        {
          "output_type": "stream",
          "name": "stderr",
          "text": [
            "       5/30      2.99G      1.259       2.75      1.909         25        640: 100%|██████████| 33/33 [00:12<00:00,  2.63it/s]\n",
            "                 Class     Images  Instances      Box(P          R      mAP50  mAP50-95): 100%|██████████| 5/5 [00:01<00:00,  4.00it/s]\n"
          ]
        },
        {
          "output_type": "stream",
          "name": "stdout",
          "text": [
            "                   all        149        287      0.653      0.686      0.711       0.52\n",
            "\n",
            "      Epoch    GPU_mem   box_loss   cls_loss   dfl_loss  Instances       Size\n"
          ]
        },
        {
          "output_type": "stream",
          "name": "stderr",
          "text": [
            "       6/30      2.99G      1.227      2.335       1.88         47        640: 100%|██████████| 33/33 [00:15<00:00,  2.16it/s]\n",
            "                 Class     Images  Instances      Box(P          R      mAP50  mAP50-95): 100%|██████████| 5/5 [00:01<00:00,  3.41it/s]\n"
          ]
        },
        {
          "output_type": "stream",
          "name": "stdout",
          "text": [
            "                   all        149        287      0.814      0.725      0.839      0.681\n",
            "\n",
            "      Epoch    GPU_mem   box_loss   cls_loss   dfl_loss  Instances       Size\n"
          ]
        },
        {
          "output_type": "stream",
          "name": "stderr",
          "text": [
            "       7/30      2.98G      1.186      2.112      1.905         41        640: 100%|██████████| 33/33 [00:12<00:00,  2.68it/s]\n",
            "                 Class     Images  Instances      Box(P          R      mAP50  mAP50-95): 100%|██████████| 5/5 [00:01<00:00,  4.07it/s]\n"
          ]
        },
        {
          "output_type": "stream",
          "name": "stdout",
          "text": [
            "                   all        149        287      0.898      0.768      0.888      0.734\n",
            "\n",
            "      Epoch    GPU_mem   box_loss   cls_loss   dfl_loss  Instances       Size\n"
          ]
        },
        {
          "output_type": "stream",
          "name": "stderr",
          "text": [
            "       8/30         3G      1.123      1.807      1.875         35        640: 100%|██████████| 33/33 [00:12<00:00,  2.63it/s]\n",
            "                 Class     Images  Instances      Box(P          R      mAP50  mAP50-95): 100%|██████████| 5/5 [00:01<00:00,  3.70it/s]\n"
          ]
        },
        {
          "output_type": "stream",
          "name": "stdout",
          "text": [
            "                   all        149        287      0.859      0.782      0.881      0.742\n",
            "\n",
            "      Epoch    GPU_mem   box_loss   cls_loss   dfl_loss  Instances       Size\n"
          ]
        },
        {
          "output_type": "stream",
          "name": "stderr",
          "text": [
            "       9/30      2.98G      1.105       1.74      1.857         37        640: 100%|██████████| 33/33 [00:10<00:00,  3.15it/s]\n",
            "                 Class     Images  Instances      Box(P          R      mAP50  mAP50-95): 100%|██████████| 5/5 [00:02<00:00,  2.48it/s]"
          ]
        },
        {
          "output_type": "stream",
          "name": "stdout",
          "text": [
            "                   all        149        287      0.841      0.812      0.909      0.778\n"
          ]
        },
        {
          "output_type": "stream",
          "name": "stderr",
          "text": [
            "\n"
          ]
        },
        {
          "output_type": "stream",
          "name": "stdout",
          "text": [
            "\n",
            "      Epoch    GPU_mem   box_loss   cls_loss   dfl_loss  Instances       Size\n"
          ]
        },
        {
          "output_type": "stream",
          "name": "stderr",
          "text": [
            "      10/30      2.98G      1.062      1.546      1.845         30        640: 100%|██████████| 33/33 [00:10<00:00,  3.10it/s]\n",
            "                 Class     Images  Instances      Box(P          R      mAP50  mAP50-95): 100%|██████████| 5/5 [00:01<00:00,  4.20it/s]\n"
          ]
        },
        {
          "output_type": "stream",
          "name": "stdout",
          "text": [
            "                   all        149        287      0.869      0.829      0.907      0.795\n",
            "\n",
            "      Epoch    GPU_mem   box_loss   cls_loss   dfl_loss  Instances       Size\n"
          ]
        },
        {
          "output_type": "stream",
          "name": "stderr",
          "text": [
            "      11/30      3.02G      1.013      1.427      1.808         34        640: 100%|██████████| 33/33 [00:12<00:00,  2.73it/s]\n",
            "                 Class     Images  Instances      Box(P          R      mAP50  mAP50-95): 100%|██████████| 5/5 [00:01<00:00,  4.10it/s]\n"
          ]
        },
        {
          "output_type": "stream",
          "name": "stdout",
          "text": [
            "                   all        149        287      0.864      0.829      0.912      0.798\n",
            "\n",
            "      Epoch    GPU_mem   box_loss   cls_loss   dfl_loss  Instances       Size\n"
          ]
        },
        {
          "output_type": "stream",
          "name": "stderr",
          "text": [
            "      12/30         3G     0.9671      1.339      1.818         47        640: 100%|██████████| 33/33 [00:12<00:00,  2.61it/s]\n",
            "                 Class     Images  Instances      Box(P          R      mAP50  mAP50-95): 100%|██████████| 5/5 [00:01<00:00,  4.19it/s]\n"
          ]
        },
        {
          "output_type": "stream",
          "name": "stdout",
          "text": [
            "                   all        149        287      0.911      0.843      0.927      0.819\n",
            "\n",
            "      Epoch    GPU_mem   box_loss   cls_loss   dfl_loss  Instances       Size\n"
          ]
        },
        {
          "output_type": "stream",
          "name": "stderr",
          "text": [
            "      13/30      2.98G     0.9189      1.256      1.799         34        640: 100%|██████████| 33/33 [00:12<00:00,  2.59it/s]\n",
            "                 Class     Images  Instances      Box(P          R      mAP50  mAP50-95): 100%|██████████| 5/5 [00:01<00:00,  4.13it/s]"
          ]
        },
        {
          "output_type": "stream",
          "name": "stdout",
          "text": [
            "                   all        149        287      0.834      0.841      0.901      0.801\n"
          ]
        },
        {
          "output_type": "stream",
          "name": "stderr",
          "text": [
            "\n"
          ]
        },
        {
          "output_type": "stream",
          "name": "stdout",
          "text": [
            "\n",
            "      Epoch    GPU_mem   box_loss   cls_loss   dfl_loss  Instances       Size\n"
          ]
        },
        {
          "output_type": "stream",
          "name": "stderr",
          "text": [
            "      14/30      2.98G     0.9528      1.199      1.807         36        640: 100%|██████████| 33/33 [00:10<00:00,  3.00it/s]\n",
            "                 Class     Images  Instances      Box(P          R      mAP50  mAP50-95): 100%|██████████| 5/5 [00:02<00:00,  2.28it/s]"
          ]
        },
        {
          "output_type": "stream",
          "name": "stdout",
          "text": [
            "                   all        149        287      0.943      0.801      0.931      0.842\n"
          ]
        },
        {
          "output_type": "stream",
          "name": "stderr",
          "text": [
            "\n"
          ]
        },
        {
          "output_type": "stream",
          "name": "stdout",
          "text": [
            "\n",
            "      Epoch    GPU_mem   box_loss   cls_loss   dfl_loss  Instances       Size\n"
          ]
        },
        {
          "output_type": "stream",
          "name": "stderr",
          "text": [
            "      15/30      2.98G     0.9145      1.151      1.787         28        640: 100%|██████████| 33/33 [00:09<00:00,  3.42it/s]\n",
            "                 Class     Images  Instances      Box(P          R      mAP50  mAP50-95): 100%|██████████| 5/5 [00:01<00:00,  3.39it/s]"
          ]
        },
        {
          "output_type": "stream",
          "name": "stdout",
          "text": [
            "                   all        149        287      0.879      0.892      0.941      0.861\n"
          ]
        },
        {
          "output_type": "stream",
          "name": "stderr",
          "text": [
            "\n"
          ]
        },
        {
          "output_type": "stream",
          "name": "stdout",
          "text": [
            "\n",
            "      Epoch    GPU_mem   box_loss   cls_loss   dfl_loss  Instances       Size\n"
          ]
        },
        {
          "output_type": "stream",
          "name": "stderr",
          "text": [
            "      16/30      2.98G     0.8994        1.1      1.782         30        640: 100%|██████████| 33/33 [00:11<00:00,  2.84it/s]\n",
            "                 Class     Images  Instances      Box(P          R      mAP50  mAP50-95): 100%|██████████| 5/5 [00:01<00:00,  4.12it/s]"
          ]
        },
        {
          "output_type": "stream",
          "name": "stdout",
          "text": [
            "                   all        149        287      0.928      0.882      0.951      0.871\n"
          ]
        },
        {
          "output_type": "stream",
          "name": "stderr",
          "text": [
            "\n"
          ]
        },
        {
          "output_type": "stream",
          "name": "stdout",
          "text": [
            "\n",
            "      Epoch    GPU_mem   box_loss   cls_loss   dfl_loss  Instances       Size\n"
          ]
        },
        {
          "output_type": "stream",
          "name": "stderr",
          "text": [
            "      17/30      3.02G     0.9066      1.076      1.773         43        640: 100%|██████████| 33/33 [00:12<00:00,  2.58it/s]\n",
            "                 Class     Images  Instances      Box(P          R      mAP50  mAP50-95): 100%|██████████| 5/5 [00:01<00:00,  4.03it/s]"
          ]
        },
        {
          "output_type": "stream",
          "name": "stdout",
          "text": [
            "                   all        149        287       0.93      0.854       0.94      0.848\n"
          ]
        },
        {
          "output_type": "stream",
          "name": "stderr",
          "text": [
            "\n"
          ]
        },
        {
          "output_type": "stream",
          "name": "stdout",
          "text": [
            "\n",
            "      Epoch    GPU_mem   box_loss   cls_loss   dfl_loss  Instances       Size\n"
          ]
        },
        {
          "output_type": "stream",
          "name": "stderr",
          "text": [
            "      18/30      2.98G     0.8773      1.007      1.758         44        640: 100%|██████████| 33/33 [00:12<00:00,  2.67it/s]\n",
            "                 Class     Images  Instances      Box(P          R      mAP50  mAP50-95): 100%|██████████| 5/5 [00:01<00:00,  4.03it/s]"
          ]
        },
        {
          "output_type": "stream",
          "name": "stdout",
          "text": [
            "                   all        149        287      0.956      0.882       0.96      0.882\n"
          ]
        },
        {
          "output_type": "stream",
          "name": "stderr",
          "text": [
            "\n"
          ]
        },
        {
          "output_type": "stream",
          "name": "stdout",
          "text": [
            "\n",
            "      Epoch    GPU_mem   box_loss   cls_loss   dfl_loss  Instances       Size\n"
          ]
        },
        {
          "output_type": "stream",
          "name": "stderr",
          "text": [
            "      19/30      2.99G     0.8014     0.9719      1.755         34        640: 100%|██████████| 33/33 [00:12<00:00,  2.67it/s]\n",
            "                 Class     Images  Instances      Box(P          R      mAP50  mAP50-95): 100%|██████████| 5/5 [00:01<00:00,  3.62it/s]"
          ]
        },
        {
          "output_type": "stream",
          "name": "stdout",
          "text": [
            "                   all        149        287      0.937      0.899       0.96      0.893\n"
          ]
        },
        {
          "output_type": "stream",
          "name": "stderr",
          "text": [
            "\n"
          ]
        },
        {
          "output_type": "stream",
          "name": "stdout",
          "text": [
            "\n",
            "      Epoch    GPU_mem   box_loss   cls_loss   dfl_loss  Instances       Size\n"
          ]
        },
        {
          "output_type": "stream",
          "name": "stderr",
          "text": [
            "      20/30      2.98G     0.7718     0.8959      1.744         36        640: 100%|██████████| 33/33 [00:10<00:00,  3.19it/s]\n",
            "                 Class     Images  Instances      Box(P          R      mAP50  mAP50-95): 100%|██████████| 5/5 [00:02<00:00,  2.42it/s]"
          ]
        },
        {
          "output_type": "stream",
          "name": "stdout",
          "text": [
            "                   all        149        287      0.913      0.912      0.959      0.886\n"
          ]
        },
        {
          "output_type": "stream",
          "name": "stderr",
          "text": [
            "\n"
          ]
        },
        {
          "output_type": "stream",
          "name": "stdout",
          "text": [
            "Closing dataloader mosaic\n",
            "\u001b[34m\u001b[1malbumentations: \u001b[0mBlur(p=0.01, blur_limit=(3, 7)), MedianBlur(p=0.01, blur_limit=(3, 7)), ToGray(p=0.01, num_output_channels=3, method='weighted_average'), CLAHE(p=0.01, clip_limit=(1, 4.0), tile_grid_size=(8, 8))\n",
            "\n",
            "      Epoch    GPU_mem   box_loss   cls_loss   dfl_loss  Instances       Size\n"
          ]
        },
        {
          "output_type": "stream",
          "name": "stderr",
          "text": [
            "      21/30      3.01G      0.726      0.942      1.666         18        640: 100%|██████████| 33/33 [00:11<00:00,  2.93it/s]\n",
            "                 Class     Images  Instances      Box(P          R      mAP50  mAP50-95): 100%|██████████| 5/5 [00:01<00:00,  2.70it/s]"
          ]
        },
        {
          "output_type": "stream",
          "name": "stdout",
          "text": [
            "                   all        149        287      0.941      0.836      0.953       0.88\n"
          ]
        },
        {
          "output_type": "stream",
          "name": "stderr",
          "text": [
            "\n"
          ]
        },
        {
          "output_type": "stream",
          "name": "stdout",
          "text": [
            "\n",
            "      Epoch    GPU_mem   box_loss   cls_loss   dfl_loss  Instances       Size\n"
          ]
        },
        {
          "output_type": "stream",
          "name": "stderr",
          "text": [
            "      22/30      2.98G     0.7403     0.9023      1.671         27        640: 100%|██████████| 33/33 [00:10<00:00,  3.02it/s]\n",
            "                 Class     Images  Instances      Box(P          R      mAP50  mAP50-95): 100%|██████████| 5/5 [00:01<00:00,  4.05it/s]"
          ]
        },
        {
          "output_type": "stream",
          "name": "stdout",
          "text": [
            "                   all        149        287      0.932      0.866      0.945      0.853\n"
          ]
        },
        {
          "output_type": "stream",
          "name": "stderr",
          "text": [
            "\n"
          ]
        },
        {
          "output_type": "stream",
          "name": "stdout",
          "text": [
            "\n",
            "      Epoch    GPU_mem   box_loss   cls_loss   dfl_loss  Instances       Size\n"
          ]
        },
        {
          "output_type": "stream",
          "name": "stderr",
          "text": [
            "      23/30      2.98G     0.7253     0.8451      1.673         25        640: 100%|██████████| 33/33 [00:12<00:00,  2.64it/s]\n",
            "                 Class     Images  Instances      Box(P          R      mAP50  mAP50-95): 100%|██████████| 5/5 [00:01<00:00,  4.18it/s]"
          ]
        },
        {
          "output_type": "stream",
          "name": "stdout",
          "text": [
            "                   all        149        287      0.956      0.835      0.947      0.864\n"
          ]
        },
        {
          "output_type": "stream",
          "name": "stderr",
          "text": [
            "\n"
          ]
        },
        {
          "output_type": "stream",
          "name": "stdout",
          "text": [
            "\n",
            "      Epoch    GPU_mem   box_loss   cls_loss   dfl_loss  Instances       Size\n"
          ]
        },
        {
          "output_type": "stream",
          "name": "stderr",
          "text": [
            "      24/30      2.98G     0.7073     0.8251      1.668         19        640: 100%|██████████| 33/33 [00:12<00:00,  2.69it/s]\n",
            "                 Class     Images  Instances      Box(P          R      mAP50  mAP50-95): 100%|██████████| 5/5 [00:01<00:00,  4.22it/s]"
          ]
        },
        {
          "output_type": "stream",
          "name": "stdout",
          "text": [
            "                   all        149        287      0.912      0.895       0.96      0.882\n"
          ]
        },
        {
          "output_type": "stream",
          "name": "stderr",
          "text": [
            "\n"
          ]
        },
        {
          "output_type": "stream",
          "name": "stdout",
          "text": [
            "\n",
            "      Epoch    GPU_mem   box_loss   cls_loss   dfl_loss  Instances       Size\n"
          ]
        },
        {
          "output_type": "stream",
          "name": "stderr",
          "text": [
            "      25/30      2.98G     0.6717     0.8012      1.663         15        640: 100%|██████████| 33/33 [00:11<00:00,  2.99it/s]\n",
            "                 Class     Images  Instances      Box(P          R      mAP50  mAP50-95): 100%|██████████| 5/5 [00:02<00:00,  2.45it/s]"
          ]
        },
        {
          "output_type": "stream",
          "name": "stdout",
          "text": [
            "                   all        149        287      0.947       0.93      0.971      0.908\n"
          ]
        },
        {
          "output_type": "stream",
          "name": "stderr",
          "text": [
            "\n"
          ]
        },
        {
          "output_type": "stream",
          "name": "stdout",
          "text": [
            "\n",
            "      Epoch    GPU_mem   box_loss   cls_loss   dfl_loss  Instances       Size\n"
          ]
        },
        {
          "output_type": "stream",
          "name": "stderr",
          "text": [
            "      26/30      2.98G     0.6634     0.7362      1.669         20        640: 100%|██████████| 33/33 [00:09<00:00,  3.60it/s]\n",
            "                 Class     Images  Instances      Box(P          R      mAP50  mAP50-95): 100%|██████████| 5/5 [00:01<00:00,  3.00it/s]"
          ]
        },
        {
          "output_type": "stream",
          "name": "stdout",
          "text": [
            "                   all        149        287      0.939      0.917      0.968      0.912\n"
          ]
        },
        {
          "output_type": "stream",
          "name": "stderr",
          "text": [
            "\n"
          ]
        },
        {
          "output_type": "stream",
          "name": "stdout",
          "text": [
            "\n",
            "      Epoch    GPU_mem   box_loss   cls_loss   dfl_loss  Instances       Size\n"
          ]
        },
        {
          "output_type": "stream",
          "name": "stderr",
          "text": [
            "      27/30      2.98G     0.6341     0.7106      1.651         24        640: 100%|██████████| 33/33 [00:12<00:00,  2.73it/s]\n",
            "                 Class     Images  Instances      Box(P          R      mAP50  mAP50-95): 100%|██████████| 5/5 [00:02<00:00,  2.41it/s]"
          ]
        },
        {
          "output_type": "stream",
          "name": "stdout",
          "text": [
            "                   all        149        287      0.986      0.882      0.971       0.91\n"
          ]
        },
        {
          "output_type": "stream",
          "name": "stderr",
          "text": [
            "\n"
          ]
        },
        {
          "output_type": "stream",
          "name": "stdout",
          "text": [
            "\n",
            "      Epoch    GPU_mem   box_loss   cls_loss   dfl_loss  Instances       Size\n"
          ]
        },
        {
          "output_type": "stream",
          "name": "stderr",
          "text": [
            "      28/30      2.98G     0.6103     0.6685      1.649         18        640: 100%|██████████| 33/33 [00:12<00:00,  2.72it/s]\n",
            "                 Class     Images  Instances      Box(P          R      mAP50  mAP50-95): 100%|██████████| 5/5 [00:01<00:00,  4.14it/s]"
          ]
        },
        {
          "output_type": "stream",
          "name": "stdout",
          "text": [
            "                   all        149        287      0.942      0.906      0.968      0.909\n"
          ]
        },
        {
          "output_type": "stream",
          "name": "stderr",
          "text": [
            "\n"
          ]
        },
        {
          "output_type": "stream",
          "name": "stdout",
          "text": [
            "\n",
            "      Epoch    GPU_mem   box_loss   cls_loss   dfl_loss  Instances       Size\n"
          ]
        },
        {
          "output_type": "stream",
          "name": "stderr",
          "text": [
            "      29/30      2.98G     0.5952     0.6504       1.65         24        640: 100%|██████████| 33/33 [00:12<00:00,  2.63it/s]\n",
            "                 Class     Images  Instances      Box(P          R      mAP50  mAP50-95): 100%|██████████| 5/5 [00:01<00:00,  4.23it/s]"
          ]
        },
        {
          "output_type": "stream",
          "name": "stdout",
          "text": [
            "                   all        149        287      0.959      0.905      0.966      0.906\n"
          ]
        },
        {
          "output_type": "stream",
          "name": "stderr",
          "text": [
            "\n"
          ]
        },
        {
          "output_type": "stream",
          "name": "stdout",
          "text": [
            "\n",
            "      Epoch    GPU_mem   box_loss   cls_loss   dfl_loss  Instances       Size\n"
          ]
        },
        {
          "output_type": "stream",
          "name": "stderr",
          "text": [
            "      30/30      2.98G     0.5907      0.624      1.636         19        640: 100%|██████████| 33/33 [00:11<00:00,  2.79it/s]\n",
            "                 Class     Images  Instances      Box(P          R      mAP50  mAP50-95): 100%|██████████| 5/5 [00:01<00:00,  3.34it/s]"
          ]
        },
        {
          "output_type": "stream",
          "name": "stdout",
          "text": [
            "                   all        149        287      0.949      0.909      0.968      0.917\n"
          ]
        },
        {
          "output_type": "stream",
          "name": "stderr",
          "text": [
            "\n"
          ]
        },
        {
          "output_type": "stream",
          "name": "stdout",
          "text": [
            "\n",
            "30 epochs completed in 0.130 hours.\n",
            "Optimizer stripped from runs/detect/train2/weights/last.pt, 5.8MB\n",
            "Optimizer stripped from runs/detect/train2/weights/best.pt, 5.8MB\n",
            "\n",
            "Validating runs/detect/train2/weights/best.pt...\n",
            "Ultralytics YOLOv8.2.101 🚀 Python-3.10.12 torch-2.4.1+cu121 CUDA:0 (Tesla T4, 15102MiB)\n",
            "YOLOv10n summary (fused): 285 layers, 2,694,806 parameters, 0 gradients, 8.2 GFLOPs\n"
          ]
        },
        {
          "output_type": "stream",
          "name": "stderr",
          "text": [
            "                 Class     Images  Instances      Box(P          R      mAP50  mAP50-95): 100%|██████████| 5/5 [00:03<00:00,  1.55it/s]\n"
          ]
        },
        {
          "output_type": "stream",
          "name": "stdout",
          "text": [
            "                   all        149        287       0.95      0.909      0.968      0.915\n",
            "Speed: 0.3ms preprocess, 4.8ms inference, 0.0ms loss, 1.1ms postprocess per image\n",
            "Results saved to \u001b[1mruns/detect/train2\u001b[0m\n"
          ]
        },
        {
          "output_type": "execute_result",
          "data": {
            "text/plain": [
              "ultralytics.utils.metrics.DetMetrics object with attributes:\n",
              "\n",
              "ap_class_index: array([0])\n",
              "box: ultralytics.utils.metrics.Metric object\n",
              "confusion_matrix: <ultralytics.utils.metrics.ConfusionMatrix object at 0x782c8c0d11e0>\n",
              "curves: ['Precision-Recall(B)', 'F1-Confidence(B)', 'Precision-Confidence(B)', 'Recall-Confidence(B)']\n",
              "curves_results: [[array([          0,    0.001001,    0.002002,    0.003003,    0.004004,    0.005005,    0.006006,    0.007007,    0.008008,    0.009009,     0.01001,    0.011011,    0.012012,    0.013013,    0.014014,    0.015015,    0.016016,    0.017017,    0.018018,    0.019019,     0.02002,    0.021021,    0.022022,    0.023023,\n",
              "          0.024024,    0.025025,    0.026026,    0.027027,    0.028028,    0.029029,     0.03003,    0.031031,    0.032032,    0.033033,    0.034034,    0.035035,    0.036036,    0.037037,    0.038038,    0.039039,     0.04004,    0.041041,    0.042042,    0.043043,    0.044044,    0.045045,    0.046046,    0.047047,\n",
              "          0.048048,    0.049049,     0.05005,    0.051051,    0.052052,    0.053053,    0.054054,    0.055055,    0.056056,    0.057057,    0.058058,    0.059059,     0.06006,    0.061061,    0.062062,    0.063063,    0.064064,    0.065065,    0.066066,    0.067067,    0.068068,    0.069069,     0.07007,    0.071071,\n",
              "          0.072072,    0.073073,    0.074074,    0.075075,    0.076076,    0.077077,    0.078078,    0.079079,     0.08008,    0.081081,    0.082082,    0.083083,    0.084084,    0.085085,    0.086086,    0.087087,    0.088088,    0.089089,     0.09009,    0.091091,    0.092092,    0.093093,    0.094094,    0.095095,\n",
              "          0.096096,    0.097097,    0.098098,    0.099099,      0.1001,      0.1011,      0.1021,      0.1031,      0.1041,     0.10511,     0.10611,     0.10711,     0.10811,     0.10911,     0.11011,     0.11111,     0.11211,     0.11311,     0.11411,     0.11512,     0.11612,     0.11712,     0.11812,     0.11912,\n",
              "           0.12012,     0.12112,     0.12212,     0.12312,     0.12412,     0.12513,     0.12613,     0.12713,     0.12813,     0.12913,     0.13013,     0.13113,     0.13213,     0.13313,     0.13413,     0.13514,     0.13614,     0.13714,     0.13814,     0.13914,     0.14014,     0.14114,     0.14214,     0.14314,\n",
              "           0.14414,     0.14515,     0.14615,     0.14715,     0.14815,     0.14915,     0.15015,     0.15115,     0.15215,     0.15315,     0.15415,     0.15516,     0.15616,     0.15716,     0.15816,     0.15916,     0.16016,     0.16116,     0.16216,     0.16316,     0.16416,     0.16517,     0.16617,     0.16717,\n",
              "           0.16817,     0.16917,     0.17017,     0.17117,     0.17217,     0.17317,     0.17417,     0.17518,     0.17618,     0.17718,     0.17818,     0.17918,     0.18018,     0.18118,     0.18218,     0.18318,     0.18418,     0.18519,     0.18619,     0.18719,     0.18819,     0.18919,     0.19019,     0.19119,\n",
              "           0.19219,     0.19319,     0.19419,      0.1952,      0.1962,      0.1972,      0.1982,      0.1992,      0.2002,      0.2012,      0.2022,      0.2032,      0.2042,     0.20521,     0.20621,     0.20721,     0.20821,     0.20921,     0.21021,     0.21121,     0.21221,     0.21321,     0.21421,     0.21522,\n",
              "           0.21622,     0.21722,     0.21822,     0.21922,     0.22022,     0.22122,     0.22222,     0.22322,     0.22422,     0.22523,     0.22623,     0.22723,     0.22823,     0.22923,     0.23023,     0.23123,     0.23223,     0.23323,     0.23423,     0.23524,     0.23624,     0.23724,     0.23824,     0.23924,\n",
              "           0.24024,     0.24124,     0.24224,     0.24324,     0.24424,     0.24525,     0.24625,     0.24725,     0.24825,     0.24925,     0.25025,     0.25125,     0.25225,     0.25325,     0.25425,     0.25526,     0.25626,     0.25726,     0.25826,     0.25926,     0.26026,     0.26126,     0.26226,     0.26326,\n",
              "           0.26426,     0.26527,     0.26627,     0.26727,     0.26827,     0.26927,     0.27027,     0.27127,     0.27227,     0.27327,     0.27427,     0.27528,     0.27628,     0.27728,     0.27828,     0.27928,     0.28028,     0.28128,     0.28228,     0.28328,     0.28428,     0.28529,     0.28629,     0.28729,\n",
              "           0.28829,     0.28929,     0.29029,     0.29129,     0.29229,     0.29329,     0.29429,      0.2953,      0.2963,      0.2973,      0.2983,      0.2993,      0.3003,      0.3013,      0.3023,      0.3033,      0.3043,     0.30531,     0.30631,     0.30731,     0.30831,     0.30931,     0.31031,     0.31131,\n",
              "           0.31231,     0.31331,     0.31431,     0.31532,     0.31632,     0.31732,     0.31832,     0.31932,     0.32032,     0.32132,     0.32232,     0.32332,     0.32432,     0.32533,     0.32633,     0.32733,     0.32833,     0.32933,     0.33033,     0.33133,     0.33233,     0.33333,     0.33433,     0.33534,\n",
              "           0.33634,     0.33734,     0.33834,     0.33934,     0.34034,     0.34134,     0.34234,     0.34334,     0.34434,     0.34535,     0.34635,     0.34735,     0.34835,     0.34935,     0.35035,     0.35135,     0.35235,     0.35335,     0.35435,     0.35536,     0.35636,     0.35736,     0.35836,     0.35936,\n",
              "           0.36036,     0.36136,     0.36236,     0.36336,     0.36436,     0.36537,     0.36637,     0.36737,     0.36837,     0.36937,     0.37037,     0.37137,     0.37237,     0.37337,     0.37437,     0.37538,     0.37638,     0.37738,     0.37838,     0.37938,     0.38038,     0.38138,     0.38238,     0.38338,\n",
              "           0.38438,     0.38539,     0.38639,     0.38739,     0.38839,     0.38939,     0.39039,     0.39139,     0.39239,     0.39339,     0.39439,      0.3954,      0.3964,      0.3974,      0.3984,      0.3994,      0.4004,      0.4014,      0.4024,      0.4034,      0.4044,     0.40541,     0.40641,     0.40741,\n",
              "           0.40841,     0.40941,     0.41041,     0.41141,     0.41241,     0.41341,     0.41441,     0.41542,     0.41642,     0.41742,     0.41842,     0.41942,     0.42042,     0.42142,     0.42242,     0.42342,     0.42442,     0.42543,     0.42643,     0.42743,     0.42843,     0.42943,     0.43043,     0.43143,\n",
              "           0.43243,     0.43343,     0.43443,     0.43544,     0.43644,     0.43744,     0.43844,     0.43944,     0.44044,     0.44144,     0.44244,     0.44344,     0.44444,     0.44545,     0.44645,     0.44745,     0.44845,     0.44945,     0.45045,     0.45145,     0.45245,     0.45345,     0.45445,     0.45546,\n",
              "           0.45646,     0.45746,     0.45846,     0.45946,     0.46046,     0.46146,     0.46246,     0.46346,     0.46446,     0.46547,     0.46647,     0.46747,     0.46847,     0.46947,     0.47047,     0.47147,     0.47247,     0.47347,     0.47447,     0.47548,     0.47648,     0.47748,     0.47848,     0.47948,\n",
              "           0.48048,     0.48148,     0.48248,     0.48348,     0.48448,     0.48549,     0.48649,     0.48749,     0.48849,     0.48949,     0.49049,     0.49149,     0.49249,     0.49349,     0.49449,      0.4955,      0.4965,      0.4975,      0.4985,      0.4995,      0.5005,      0.5015,      0.5025,      0.5035,\n",
              "            0.5045,     0.50551,     0.50651,     0.50751,     0.50851,     0.50951,     0.51051,     0.51151,     0.51251,     0.51351,     0.51451,     0.51552,     0.51652,     0.51752,     0.51852,     0.51952,     0.52052,     0.52152,     0.52252,     0.52352,     0.52452,     0.52553,     0.52653,     0.52753,\n",
              "           0.52853,     0.52953,     0.53053,     0.53153,     0.53253,     0.53353,     0.53453,     0.53554,     0.53654,     0.53754,     0.53854,     0.53954,     0.54054,     0.54154,     0.54254,     0.54354,     0.54454,     0.54555,     0.54655,     0.54755,     0.54855,     0.54955,     0.55055,     0.55155,\n",
              "           0.55255,     0.55355,     0.55455,     0.55556,     0.55656,     0.55756,     0.55856,     0.55956,     0.56056,     0.56156,     0.56256,     0.56356,     0.56456,     0.56557,     0.56657,     0.56757,     0.56857,     0.56957,     0.57057,     0.57157,     0.57257,     0.57357,     0.57457,     0.57558,\n",
              "           0.57658,     0.57758,     0.57858,     0.57958,     0.58058,     0.58158,     0.58258,     0.58358,     0.58458,     0.58559,     0.58659,     0.58759,     0.58859,     0.58959,     0.59059,     0.59159,     0.59259,     0.59359,     0.59459,      0.5956,      0.5966,      0.5976,      0.5986,      0.5996,\n",
              "            0.6006,      0.6016,      0.6026,      0.6036,      0.6046,     0.60561,     0.60661,     0.60761,     0.60861,     0.60961,     0.61061,     0.61161,     0.61261,     0.61361,     0.61461,     0.61562,     0.61662,     0.61762,     0.61862,     0.61962,     0.62062,     0.62162,     0.62262,     0.62362,\n",
              "           0.62462,     0.62563,     0.62663,     0.62763,     0.62863,     0.62963,     0.63063,     0.63163,     0.63263,     0.63363,     0.63463,     0.63564,     0.63664,     0.63764,     0.63864,     0.63964,     0.64064,     0.64164,     0.64264,     0.64364,     0.64464,     0.64565,     0.64665,     0.64765,\n",
              "           0.64865,     0.64965,     0.65065,     0.65165,     0.65265,     0.65365,     0.65465,     0.65566,     0.65666,     0.65766,     0.65866,     0.65966,     0.66066,     0.66166,     0.66266,     0.66366,     0.66466,     0.66567,     0.66667,     0.66767,     0.66867,     0.66967,     0.67067,     0.67167,\n",
              "           0.67267,     0.67367,     0.67467,     0.67568,     0.67668,     0.67768,     0.67868,     0.67968,     0.68068,     0.68168,     0.68268,     0.68368,     0.68468,     0.68569,     0.68669,     0.68769,     0.68869,     0.68969,     0.69069,     0.69169,     0.69269,     0.69369,     0.69469,      0.6957,\n",
              "            0.6967,      0.6977,      0.6987,      0.6997,      0.7007,      0.7017,      0.7027,      0.7037,      0.7047,     0.70571,     0.70671,     0.70771,     0.70871,     0.70971,     0.71071,     0.71171,     0.71271,     0.71371,     0.71471,     0.71572,     0.71672,     0.71772,     0.71872,     0.71972,\n",
              "           0.72072,     0.72172,     0.72272,     0.72372,     0.72472,     0.72573,     0.72673,     0.72773,     0.72873,     0.72973,     0.73073,     0.73173,     0.73273,     0.73373,     0.73473,     0.73574,     0.73674,     0.73774,     0.73874,     0.73974,     0.74074,     0.74174,     0.74274,     0.74374,\n",
              "           0.74474,     0.74575,     0.74675,     0.74775,     0.74875,     0.74975,     0.75075,     0.75175,     0.75275,     0.75375,     0.75475,     0.75576,     0.75676,     0.75776,     0.75876,     0.75976,     0.76076,     0.76176,     0.76276,     0.76376,     0.76476,     0.76577,     0.76677,     0.76777,\n",
              "           0.76877,     0.76977,     0.77077,     0.77177,     0.77277,     0.77377,     0.77477,     0.77578,     0.77678,     0.77778,     0.77878,     0.77978,     0.78078,     0.78178,     0.78278,     0.78378,     0.78478,     0.78579,     0.78679,     0.78779,     0.78879,     0.78979,     0.79079,     0.79179,\n",
              "           0.79279,     0.79379,     0.79479,      0.7958,      0.7968,      0.7978,      0.7988,      0.7998,      0.8008,      0.8018,      0.8028,      0.8038,      0.8048,     0.80581,     0.80681,     0.80781,     0.80881,     0.80981,     0.81081,     0.81181,     0.81281,     0.81381,     0.81481,     0.81582,\n",
              "           0.81682,     0.81782,     0.81882,     0.81982,     0.82082,     0.82182,     0.82282,     0.82382,     0.82482,     0.82583,     0.82683,     0.82783,     0.82883,     0.82983,     0.83083,     0.83183,     0.83283,     0.83383,     0.83483,     0.83584,     0.83684,     0.83784,     0.83884,     0.83984,\n",
              "           0.84084,     0.84184,     0.84284,     0.84384,     0.84484,     0.84585,     0.84685,     0.84785,     0.84885,     0.84985,     0.85085,     0.85185,     0.85285,     0.85385,     0.85485,     0.85586,     0.85686,     0.85786,     0.85886,     0.85986,     0.86086,     0.86186,     0.86286,     0.86386,\n",
              "           0.86486,     0.86587,     0.86687,     0.86787,     0.86887,     0.86987,     0.87087,     0.87187,     0.87287,     0.87387,     0.87487,     0.87588,     0.87688,     0.87788,     0.87888,     0.87988,     0.88088,     0.88188,     0.88288,     0.88388,     0.88488,     0.88589,     0.88689,     0.88789,\n",
              "           0.88889,     0.88989,     0.89089,     0.89189,     0.89289,     0.89389,     0.89489,      0.8959,      0.8969,      0.8979,      0.8989,      0.8999,      0.9009,      0.9019,      0.9029,      0.9039,      0.9049,     0.90591,     0.90691,     0.90791,     0.90891,     0.90991,     0.91091,     0.91191,\n",
              "           0.91291,     0.91391,     0.91491,     0.91592,     0.91692,     0.91792,     0.91892,     0.91992,     0.92092,     0.92192,     0.92292,     0.92392,     0.92492,     0.92593,     0.92693,     0.92793,     0.92893,     0.92993,     0.93093,     0.93193,     0.93293,     0.93393,     0.93493,     0.93594,\n",
              "           0.93694,     0.93794,     0.93894,     0.93994,     0.94094,     0.94194,     0.94294,     0.94394,     0.94494,     0.94595,     0.94695,     0.94795,     0.94895,     0.94995,     0.95095,     0.95195,     0.95295,     0.95395,     0.95495,     0.95596,     0.95696,     0.95796,     0.95896,     0.95996,\n",
              "           0.96096,     0.96196,     0.96296,     0.96396,     0.96496,     0.96597,     0.96697,     0.96797,     0.96897,     0.96997,     0.97097,     0.97197,     0.97297,     0.97397,     0.97497,     0.97598,     0.97698,     0.97798,     0.97898,     0.97998,     0.98098,     0.98198,     0.98298,     0.98398,\n",
              "           0.98498,     0.98599,     0.98699,     0.98799,     0.98899,     0.98999,     0.99099,     0.99199,     0.99299,     0.99399,     0.99499,       0.996,       0.997,       0.998,       0.999,           1]), array([[          1,           1,           1,           1,           1,           1,           1,           1,           1,           1,           1,           1,           1,           1,           1,           1,           1,           1,           1,           1,           1,           1,           1,\n",
              "                  1,           1,           1,           1,           1,           1,           1,           1,           1,           1,           1,           1,           1,           1,           1,           1,           1,           1,           1,           1,           1,           1,           1,\n",
              "                  1,           1,           1,           1,           1,           1,           1,           1,           1,           1,           1,           1,           1,           1,           1,           1,           1,           1,           1,           1,           1,           1,           1,\n",
              "                  1,           1,           1,           1,           1,           1,           1,           1,           1,           1,           1,           1,           1,           1,           1,           1,           1,           1,           1,           1,           1,           1,           1,\n",
              "                  1,           1,           1,           1,           1,           1,           1,           1,           1,           1,           1,           1,           1,           1,           1,           1,           1,           1,           1,           1,           1,           1,           1,\n",
              "                  1,           1,           1,           1,           1,           1,           1,           1,           1,           1,           1,           1,           1,           1,           1,           1,           1,           1,           1,           1,           1,           1,           1,\n",
              "                  1,           1,           1,           1,           1,           1,           1,           1,           1,           1,           1,           1,           1,           1,           1,           1,           1,           1,           1,           1,           1,           1,           1,\n",
              "                  1,           1,           1,           1,           1,           1,           1,           1,           1,           1,           1,           1,           1,           1,           1,           1,           1,           1,           1,           1,           1,           1,           1,\n",
              "                  1,           1,           1,           1,           1,           1,           1,           1,           1,           1,           1,           1,           1,           1,           1,           1,           1,           1,           1,           1,           1,           1,           1,\n",
              "                  1,           1,           1,           1,           1,           1,           1,           1,           1,           1,           1,           1,           1,           1,           1,           1,           1,           1,           1,           1,           1,           1,           1,\n",
              "                  1,           1,           1,           1,           1,           1,           1,           1,           1,           1,           1,           1,           1,           1,           1,           1,           1,           1,           1,           1,           1,           1,           1,\n",
              "                  1,           1,           1,           1,           1,           1,           1,           1,           1,           1,           1,           1,           1,           1,           1,           1,           1,           1,           1,           1,           1,           1,           1,\n",
              "                  1,           1,           1,           1,           1,           1,           1,           1,           1,           1,           1,           1,           1,           1,           1,           1,           1,           1,           1,           1,           1,           1,           1,\n",
              "                  1,           1,           1,           1,           1,           1,           1,           1,           1,           1,           1,           1,           1,           1,           1,           1,           1,           1,           1,           1,           1,           1,           1,\n",
              "                  1,           1,           1,           1,           1,           1,           1,           1,           1,           1,           1,           1,           1,           1,           1,           1,           1,           1,           1,           1,           1,           1,           1,\n",
              "                  1,           1,           1,           1,           1,           1,           1,           1,           1,           1,           1,           1,           1,           1,           1,           1,           1,           1,           1,           1,           1,           1,           1,\n",
              "                  1,           1,           1,           1,           1,           1,           1,           1,           1,           1,           1,           1,           1,           1,           1,           1,           1,           1,           1,           1,           1,           1,           1,\n",
              "                  1,           1,           1,           1,           1,           1,           1,           1,           1,           1,           1,           1,           1,           1,           1,           1,           1,           1,           1,           1,           1,           1,           1,\n",
              "                  1,           1,           1,           1,           1,           1,           1,           1,           1,           1,           1,           1,           1,           1,           1,           1,           1,           1,           1,           1,           1,           1,           1,\n",
              "                  1,           1,           1,           1,           1,           1,           1,           1,           1,           1,           1,           1,           1,           1,           1,           1,           1,           1,           1,           1,           1,           1,           1,\n",
              "                  1,           1,           1,           1,           1,           1,           1,           1,           1,           1,           1,           1,           1,           1,           1,           1,           1,           1,           1,           1,           1,           1,           1,\n",
              "                  1,           1,           1,           1,           1,           1,           1,           1,           1,           1,           1,           1,           1,           1,           1,           1,           1,           1,           1,           1,           1,           1,           1,\n",
              "                  1,           1,           1,           1,           1,           1,           1,           1,           1,           1,           1,           1,           1,           1,           1,           1,           1,           1,           1,           1,           1,           1,           1,\n",
              "                  1,           1,           1,           1,           1,           1,           1,           1,           1,           1,           1,           1,           1,           1,           1,           1,           1,           1,           1,           1,           1,           1,           1,\n",
              "                  1,           1,           1,           1,           1,           1,           1,           1,           1,           1,           1,           1,           1,           1,           1,           1,           1,           1,           1,           1,           1,           1,           1,\n",
              "                  1,           1,           1,           1,           1,           1,           1,           1,           1,           1,           1,           1,           1,           1,           1,           1,           1,           1,           1,           1,           1,           1,           1,\n",
              "                  1,           1,           1,           1,           1,           1,           1,           1,           1,           1,           1,           1,           1,           1,           1,           1,           1,           1,           1,           1,           1,           1,           1,\n",
              "                  1,           1,           1,           1,           1,           1,           1,           1,           1,           1,           1,           1,           1,           1,           1,           1,           1,           1,           1,           1,           1,           1,           1,\n",
              "                  1,           1,           1,           1,           1,           1,           1,           1,           1,           1,           1,           1,           1,           1,           1,           1,           1,           1,           1,           1,           1,           1,           1,\n",
              "                  1,           1,           1,           1,           1,           1,           1,           1,           1,           1,           1,           1,     0.99558,     0.99558,     0.99558,     0.99558,     0.99558,     0.99558,     0.99558,     0.99558,     0.99558,     0.99558,     0.99558,\n",
              "            0.99558,     0.99558,     0.99558,     0.99558,     0.99558,     0.99558,     0.99558,     0.99558,     0.99558,     0.99558,     0.99558,     0.99558,     0.99558,     0.99558,     0.99558,     0.99558,     0.99558,     0.99558,     0.99558,     0.99558,     0.99558,     0.99558,     0.99558,\n",
              "            0.99558,     0.99558,     0.99558,     0.99558,     0.99558,     0.99558,     0.99558,     0.99558,     0.99558,     0.99558,     0.99558,     0.99558,     0.99558,     0.99558,     0.99558,     0.99558,     0.99558,     0.99558,     0.99558,     0.99558,     0.99558,     0.99558,     0.99558,\n",
              "            0.99558,     0.99558,     0.99558,     0.99558,     0.99558,     0.99558,     0.99558,     0.99558,     0.99558,     0.99558,     0.99558,     0.99558,     0.99558,     0.99558,     0.99558,     0.99558,     0.99558,     0.99558,     0.99558,     0.99558,     0.99558,     0.99558,     0.99558,\n",
              "            0.99558,     0.99558,     0.99558,     0.99558,     0.99558,     0.99558,     0.99558,     0.99558,     0.99558,     0.99558,     0.99558,     0.99558,     0.99558,     0.99558,     0.99558,     0.99558,     0.99558,     0.99558,     0.99558,     0.99558,     0.99558,     0.99558,     0.99558,\n",
              "            0.99558,     0.99558,     0.99145,     0.99145,     0.99145,     0.99145,     0.99145,     0.99145,     0.99145,     0.99145,     0.99145,     0.99145,     0.99145,     0.99145,     0.99145,     0.99145,     0.99145,     0.99145,     0.99145,     0.99145,     0.99145,     0.99145,     0.99145,\n",
              "            0.99145,     0.99145,     0.99145,      0.9876,      0.9876,      0.9876,      0.9876,      0.9876,      0.9876,      0.9876,      0.9876,      0.9876,      0.9876,      0.9876,      0.9876,      0.9876,      0.9876,      0.9876,      0.9876,      0.9876,      0.9876,      0.9876,      0.9876,\n",
              "             0.9876,      0.9876,      0.9876,      0.9876,     0.98394,     0.98394,     0.98394,     0.98394,     0.98394,     0.98394,     0.98394,     0.98394,     0.98394,     0.98394,     0.98394,     0.98394,     0.98394,     0.98394,     0.98394,     0.98394,     0.98394,     0.98394,     0.98394,\n",
              "            0.98394,     0.98394,     0.98039,     0.98039,     0.98039,     0.98039,     0.98039,     0.98039,     0.98039,     0.98039,     0.98039,     0.98039,     0.98039,     0.98039,     0.98039,     0.98039,     0.98039,     0.98039,     0.98039,     0.98039,     0.97287,     0.97287,     0.97287,\n",
              "            0.96935,     0.96935,     0.96935,     0.96935,     0.96935,     0.96935,     0.96935,     0.96241,     0.96241,     0.96241,     0.96241,     0.96241,     0.96241,     0.96241,     0.96241,     0.96241,     0.96241,     0.96241,     0.95911,     0.95911,     0.95911,     0.95911,     0.95911,\n",
              "            0.95911,     0.95911,     0.95255,     0.95255,     0.95255,     0.95255,     0.95255,     0.95255,     0.95255,     0.95255,     0.95255,     0.95255,     0.94928,     0.94928,     0.94928,     0.94604,     0.94604,     0.94604,     0.94604,     0.94286,     0.94286,     0.94286,     0.92982,\n",
              "            0.92982,     0.92982,     0.92982,     0.92361,     0.92361,     0.92361,     0.89298,     0.89298,     0.89298,     0.89298,     0.89037,     0.89037,     0.89037,     0.88197,     0.88197,     0.88197,     0.88197,     0.87662,     0.87662,     0.87662,      0.8746,      0.8746,      0.8746,\n",
              "             0.8746,      0.8746,      0.8746,      0.8746,      0.8722,      0.8722,      0.8722,      0.8722,     0.85404,     0.85404,     0.85404,     0.85404,     0.85404,     0.85404,     0.85404,     0.81176,     0.81176,     0.81176,     0.75068,     0.75068,     0.75068,     0.75068,     0.73936,\n",
              "            0.73936,     0.73936,     0.72846,     0.72846,     0.72846,     0.72846,     0.72727,     0.72727,     0.72727,     0.70426,     0.70426,     0.70426,     0.70426,     0.32045,     0.32045,     0.32045,     0.28159,     0.28159,     0.28159,     0.28159,     0.19073,     0.19073,     0.19073,\n",
              "            0.18095,     0.18095,     0.18095,     0.18095,     0.14595,     0.12162,    0.097299,    0.072974,    0.048649,    0.024325,           0]]), 'Recall', 'Precision'], [array([          0,    0.001001,    0.002002,    0.003003,    0.004004,    0.005005,    0.006006,    0.007007,    0.008008,    0.009009,     0.01001,    0.011011,    0.012012,    0.013013,    0.014014,    0.015015,    0.016016,    0.017017,    0.018018,    0.019019,     0.02002,    0.021021,    0.022022,    0.023023,\n",
              "          0.024024,    0.025025,    0.026026,    0.027027,    0.028028,    0.029029,     0.03003,    0.031031,    0.032032,    0.033033,    0.034034,    0.035035,    0.036036,    0.037037,    0.038038,    0.039039,     0.04004,    0.041041,    0.042042,    0.043043,    0.044044,    0.045045,    0.046046,    0.047047,\n",
              "          0.048048,    0.049049,     0.05005,    0.051051,    0.052052,    0.053053,    0.054054,    0.055055,    0.056056,    0.057057,    0.058058,    0.059059,     0.06006,    0.061061,    0.062062,    0.063063,    0.064064,    0.065065,    0.066066,    0.067067,    0.068068,    0.069069,     0.07007,    0.071071,\n",
              "          0.072072,    0.073073,    0.074074,    0.075075,    0.076076,    0.077077,    0.078078,    0.079079,     0.08008,    0.081081,    0.082082,    0.083083,    0.084084,    0.085085,    0.086086,    0.087087,    0.088088,    0.089089,     0.09009,    0.091091,    0.092092,    0.093093,    0.094094,    0.095095,\n",
              "          0.096096,    0.097097,    0.098098,    0.099099,      0.1001,      0.1011,      0.1021,      0.1031,      0.1041,     0.10511,     0.10611,     0.10711,     0.10811,     0.10911,     0.11011,     0.11111,     0.11211,     0.11311,     0.11411,     0.11512,     0.11612,     0.11712,     0.11812,     0.11912,\n",
              "           0.12012,     0.12112,     0.12212,     0.12312,     0.12412,     0.12513,     0.12613,     0.12713,     0.12813,     0.12913,     0.13013,     0.13113,     0.13213,     0.13313,     0.13413,     0.13514,     0.13614,     0.13714,     0.13814,     0.13914,     0.14014,     0.14114,     0.14214,     0.14314,\n",
              "           0.14414,     0.14515,     0.14615,     0.14715,     0.14815,     0.14915,     0.15015,     0.15115,     0.15215,     0.15315,     0.15415,     0.15516,     0.15616,     0.15716,     0.15816,     0.15916,     0.16016,     0.16116,     0.16216,     0.16316,     0.16416,     0.16517,     0.16617,     0.16717,\n",
              "           0.16817,     0.16917,     0.17017,     0.17117,     0.17217,     0.17317,     0.17417,     0.17518,     0.17618,     0.17718,     0.17818,     0.17918,     0.18018,     0.18118,     0.18218,     0.18318,     0.18418,     0.18519,     0.18619,     0.18719,     0.18819,     0.18919,     0.19019,     0.19119,\n",
              "           0.19219,     0.19319,     0.19419,      0.1952,      0.1962,      0.1972,      0.1982,      0.1992,      0.2002,      0.2012,      0.2022,      0.2032,      0.2042,     0.20521,     0.20621,     0.20721,     0.20821,     0.20921,     0.21021,     0.21121,     0.21221,     0.21321,     0.21421,     0.21522,\n",
              "           0.21622,     0.21722,     0.21822,     0.21922,     0.22022,     0.22122,     0.22222,     0.22322,     0.22422,     0.22523,     0.22623,     0.22723,     0.22823,     0.22923,     0.23023,     0.23123,     0.23223,     0.23323,     0.23423,     0.23524,     0.23624,     0.23724,     0.23824,     0.23924,\n",
              "           0.24024,     0.24124,     0.24224,     0.24324,     0.24424,     0.24525,     0.24625,     0.24725,     0.24825,     0.24925,     0.25025,     0.25125,     0.25225,     0.25325,     0.25425,     0.25526,     0.25626,     0.25726,     0.25826,     0.25926,     0.26026,     0.26126,     0.26226,     0.26326,\n",
              "           0.26426,     0.26527,     0.26627,     0.26727,     0.26827,     0.26927,     0.27027,     0.27127,     0.27227,     0.27327,     0.27427,     0.27528,     0.27628,     0.27728,     0.27828,     0.27928,     0.28028,     0.28128,     0.28228,     0.28328,     0.28428,     0.28529,     0.28629,     0.28729,\n",
              "           0.28829,     0.28929,     0.29029,     0.29129,     0.29229,     0.29329,     0.29429,      0.2953,      0.2963,      0.2973,      0.2983,      0.2993,      0.3003,      0.3013,      0.3023,      0.3033,      0.3043,     0.30531,     0.30631,     0.30731,     0.30831,     0.30931,     0.31031,     0.31131,\n",
              "           0.31231,     0.31331,     0.31431,     0.31532,     0.31632,     0.31732,     0.31832,     0.31932,     0.32032,     0.32132,     0.32232,     0.32332,     0.32432,     0.32533,     0.32633,     0.32733,     0.32833,     0.32933,     0.33033,     0.33133,     0.33233,     0.33333,     0.33433,     0.33534,\n",
              "           0.33634,     0.33734,     0.33834,     0.33934,     0.34034,     0.34134,     0.34234,     0.34334,     0.34434,     0.34535,     0.34635,     0.34735,     0.34835,     0.34935,     0.35035,     0.35135,     0.35235,     0.35335,     0.35435,     0.35536,     0.35636,     0.35736,     0.35836,     0.35936,\n",
              "           0.36036,     0.36136,     0.36236,     0.36336,     0.36436,     0.36537,     0.36637,     0.36737,     0.36837,     0.36937,     0.37037,     0.37137,     0.37237,     0.37337,     0.37437,     0.37538,     0.37638,     0.37738,     0.37838,     0.37938,     0.38038,     0.38138,     0.38238,     0.38338,\n",
              "           0.38438,     0.38539,     0.38639,     0.38739,     0.38839,     0.38939,     0.39039,     0.39139,     0.39239,     0.39339,     0.39439,      0.3954,      0.3964,      0.3974,      0.3984,      0.3994,      0.4004,      0.4014,      0.4024,      0.4034,      0.4044,     0.40541,     0.40641,     0.40741,\n",
              "           0.40841,     0.40941,     0.41041,     0.41141,     0.41241,     0.41341,     0.41441,     0.41542,     0.41642,     0.41742,     0.41842,     0.41942,     0.42042,     0.42142,     0.42242,     0.42342,     0.42442,     0.42543,     0.42643,     0.42743,     0.42843,     0.42943,     0.43043,     0.43143,\n",
              "           0.43243,     0.43343,     0.43443,     0.43544,     0.43644,     0.43744,     0.43844,     0.43944,     0.44044,     0.44144,     0.44244,     0.44344,     0.44444,     0.44545,     0.44645,     0.44745,     0.44845,     0.44945,     0.45045,     0.45145,     0.45245,     0.45345,     0.45445,     0.45546,\n",
              "           0.45646,     0.45746,     0.45846,     0.45946,     0.46046,     0.46146,     0.46246,     0.46346,     0.46446,     0.46547,     0.46647,     0.46747,     0.46847,     0.46947,     0.47047,     0.47147,     0.47247,     0.47347,     0.47447,     0.47548,     0.47648,     0.47748,     0.47848,     0.47948,\n",
              "           0.48048,     0.48148,     0.48248,     0.48348,     0.48448,     0.48549,     0.48649,     0.48749,     0.48849,     0.48949,     0.49049,     0.49149,     0.49249,     0.49349,     0.49449,      0.4955,      0.4965,      0.4975,      0.4985,      0.4995,      0.5005,      0.5015,      0.5025,      0.5035,\n",
              "            0.5045,     0.50551,     0.50651,     0.50751,     0.50851,     0.50951,     0.51051,     0.51151,     0.51251,     0.51351,     0.51451,     0.51552,     0.51652,     0.51752,     0.51852,     0.51952,     0.52052,     0.52152,     0.52252,     0.52352,     0.52452,     0.52553,     0.52653,     0.52753,\n",
              "           0.52853,     0.52953,     0.53053,     0.53153,     0.53253,     0.53353,     0.53453,     0.53554,     0.53654,     0.53754,     0.53854,     0.53954,     0.54054,     0.54154,     0.54254,     0.54354,     0.54454,     0.54555,     0.54655,     0.54755,     0.54855,     0.54955,     0.55055,     0.55155,\n",
              "           0.55255,     0.55355,     0.55455,     0.55556,     0.55656,     0.55756,     0.55856,     0.55956,     0.56056,     0.56156,     0.56256,     0.56356,     0.56456,     0.56557,     0.56657,     0.56757,     0.56857,     0.56957,     0.57057,     0.57157,     0.57257,     0.57357,     0.57457,     0.57558,\n",
              "           0.57658,     0.57758,     0.57858,     0.57958,     0.58058,     0.58158,     0.58258,     0.58358,     0.58458,     0.58559,     0.58659,     0.58759,     0.58859,     0.58959,     0.59059,     0.59159,     0.59259,     0.59359,     0.59459,      0.5956,      0.5966,      0.5976,      0.5986,      0.5996,\n",
              "            0.6006,      0.6016,      0.6026,      0.6036,      0.6046,     0.60561,     0.60661,     0.60761,     0.60861,     0.60961,     0.61061,     0.61161,     0.61261,     0.61361,     0.61461,     0.61562,     0.61662,     0.61762,     0.61862,     0.61962,     0.62062,     0.62162,     0.62262,     0.62362,\n",
              "           0.62462,     0.62563,     0.62663,     0.62763,     0.62863,     0.62963,     0.63063,     0.63163,     0.63263,     0.63363,     0.63463,     0.63564,     0.63664,     0.63764,     0.63864,     0.63964,     0.64064,     0.64164,     0.64264,     0.64364,     0.64464,     0.64565,     0.64665,     0.64765,\n",
              "           0.64865,     0.64965,     0.65065,     0.65165,     0.65265,     0.65365,     0.65465,     0.65566,     0.65666,     0.65766,     0.65866,     0.65966,     0.66066,     0.66166,     0.66266,     0.66366,     0.66466,     0.66567,     0.66667,     0.66767,     0.66867,     0.66967,     0.67067,     0.67167,\n",
              "           0.67267,     0.67367,     0.67467,     0.67568,     0.67668,     0.67768,     0.67868,     0.67968,     0.68068,     0.68168,     0.68268,     0.68368,     0.68468,     0.68569,     0.68669,     0.68769,     0.68869,     0.68969,     0.69069,     0.69169,     0.69269,     0.69369,     0.69469,      0.6957,\n",
              "            0.6967,      0.6977,      0.6987,      0.6997,      0.7007,      0.7017,      0.7027,      0.7037,      0.7047,     0.70571,     0.70671,     0.70771,     0.70871,     0.70971,     0.71071,     0.71171,     0.71271,     0.71371,     0.71471,     0.71572,     0.71672,     0.71772,     0.71872,     0.71972,\n",
              "           0.72072,     0.72172,     0.72272,     0.72372,     0.72472,     0.72573,     0.72673,     0.72773,     0.72873,     0.72973,     0.73073,     0.73173,     0.73273,     0.73373,     0.73473,     0.73574,     0.73674,     0.73774,     0.73874,     0.73974,     0.74074,     0.74174,     0.74274,     0.74374,\n",
              "           0.74474,     0.74575,     0.74675,     0.74775,     0.74875,     0.74975,     0.75075,     0.75175,     0.75275,     0.75375,     0.75475,     0.75576,     0.75676,     0.75776,     0.75876,     0.75976,     0.76076,     0.76176,     0.76276,     0.76376,     0.76476,     0.76577,     0.76677,     0.76777,\n",
              "           0.76877,     0.76977,     0.77077,     0.77177,     0.77277,     0.77377,     0.77477,     0.77578,     0.77678,     0.77778,     0.77878,     0.77978,     0.78078,     0.78178,     0.78278,     0.78378,     0.78478,     0.78579,     0.78679,     0.78779,     0.78879,     0.78979,     0.79079,     0.79179,\n",
              "           0.79279,     0.79379,     0.79479,      0.7958,      0.7968,      0.7978,      0.7988,      0.7998,      0.8008,      0.8018,      0.8028,      0.8038,      0.8048,     0.80581,     0.80681,     0.80781,     0.80881,     0.80981,     0.81081,     0.81181,     0.81281,     0.81381,     0.81481,     0.81582,\n",
              "           0.81682,     0.81782,     0.81882,     0.81982,     0.82082,     0.82182,     0.82282,     0.82382,     0.82482,     0.82583,     0.82683,     0.82783,     0.82883,     0.82983,     0.83083,     0.83183,     0.83283,     0.83383,     0.83483,     0.83584,     0.83684,     0.83784,     0.83884,     0.83984,\n",
              "           0.84084,     0.84184,     0.84284,     0.84384,     0.84484,     0.84585,     0.84685,     0.84785,     0.84885,     0.84985,     0.85085,     0.85185,     0.85285,     0.85385,     0.85485,     0.85586,     0.85686,     0.85786,     0.85886,     0.85986,     0.86086,     0.86186,     0.86286,     0.86386,\n",
              "           0.86486,     0.86587,     0.86687,     0.86787,     0.86887,     0.86987,     0.87087,     0.87187,     0.87287,     0.87387,     0.87487,     0.87588,     0.87688,     0.87788,     0.87888,     0.87988,     0.88088,     0.88188,     0.88288,     0.88388,     0.88488,     0.88589,     0.88689,     0.88789,\n",
              "           0.88889,     0.88989,     0.89089,     0.89189,     0.89289,     0.89389,     0.89489,      0.8959,      0.8969,      0.8979,      0.8989,      0.8999,      0.9009,      0.9019,      0.9029,      0.9039,      0.9049,     0.90591,     0.90691,     0.90791,     0.90891,     0.90991,     0.91091,     0.91191,\n",
              "           0.91291,     0.91391,     0.91491,     0.91592,     0.91692,     0.91792,     0.91892,     0.91992,     0.92092,     0.92192,     0.92292,     0.92392,     0.92492,     0.92593,     0.92693,     0.92793,     0.92893,     0.92993,     0.93093,     0.93193,     0.93293,     0.93393,     0.93493,     0.93594,\n",
              "           0.93694,     0.93794,     0.93894,     0.93994,     0.94094,     0.94194,     0.94294,     0.94394,     0.94494,     0.94595,     0.94695,     0.94795,     0.94895,     0.94995,     0.95095,     0.95195,     0.95295,     0.95395,     0.95495,     0.95596,     0.95696,     0.95796,     0.95896,     0.95996,\n",
              "           0.96096,     0.96196,     0.96296,     0.96396,     0.96496,     0.96597,     0.96697,     0.96797,     0.96897,     0.96997,     0.97097,     0.97197,     0.97297,     0.97397,     0.97497,     0.97598,     0.97698,     0.97798,     0.97898,     0.97998,     0.98098,     0.98198,     0.98298,     0.98398,\n",
              "           0.98498,     0.98599,     0.98699,     0.98799,     0.98899,     0.98999,     0.99099,     0.99199,     0.99299,     0.99399,     0.99499,       0.996,       0.997,       0.998,       0.999,           1]), array([[    0.28934,     0.29143,     0.45925,     0.53672,     0.58842,     0.62668,     0.65707,     0.68475,     0.69914,     0.71237,     0.72237,     0.72811,     0.73236,     0.73942,     0.74394,     0.74626,     0.75602,     0.75767,     0.75827,     0.76042,     0.76379,     0.76519,     0.77074,\n",
              "            0.77514,     0.78073,     0.78598,     0.79201,     0.79796,     0.80353,     0.80769,     0.81362,     0.81544,     0.81877,     0.82004,     0.82198,     0.82492,     0.82927,     0.83208,     0.83203,     0.83179,      0.8319,     0.83401,     0.83489,     0.83695,     0.83748,     0.83801,\n",
              "            0.83894,     0.83983,     0.84061,     0.84325,     0.84309,     0.84362,      0.8447,     0.84931,     0.85072,     0.85124,     0.85175,      0.8536,     0.85419,     0.85463,      0.8549,     0.85518,     0.85546,     0.85573,     0.85684,     0.85742,     0.85778,     0.85813,     0.85855,\n",
              "            0.86003,      0.8603,     0.86058,     0.86085,     0.86112,     0.86335,     0.86479,     0.86552,     0.86593,     0.86634,     0.86717,     0.86861,     0.86944,     0.86969,     0.86995,     0.87021,     0.87046,     0.87075,     0.87118,      0.8716,     0.87203,     0.87359,     0.87395,\n",
              "             0.8743,     0.87466,     0.87525,     0.87601,     0.87721,     0.87817,       0.879,     0.88015,     0.87988,     0.88018,     0.88038,     0.88057,     0.88077,     0.88096,     0.88116,     0.88135,     0.88263,     0.88339,     0.88402,     0.88484,     0.88577,     0.88667,      0.8886,\n",
              "            0.88872,     0.88884,     0.88897,     0.88909,     0.88921,     0.88934,     0.88946,     0.88958,     0.88971,     0.88983,     0.88995,     0.89014,     0.89034,     0.89054,     0.89073,     0.89093,     0.89113,     0.89132,     0.89237,     0.89407,     0.89516,     0.89587,     0.89614,\n",
              "             0.8964,     0.89667,     0.89694,      0.8972,     0.89813,     0.89923,     0.90025,     0.90066,     0.90106,     0.90146,     0.90185,     0.90223,     0.90261,     0.90299,     0.90273,     0.90214,     0.90154,     0.90062,     0.89951,     0.89982,     0.90012,     0.90043,     0.90073,\n",
              "             0.9011,     0.90187,     0.90255,      0.9029,     0.90325,      0.9036,     0.90395,      0.9041,     0.90423,     0.90437,     0.90451,     0.90464,     0.90478,     0.90491,     0.90505,     0.90518,     0.90532,     0.90545,     0.90578,     0.90616,     0.90653,     0.90691,     0.90723,\n",
              "            0.90755,     0.90787,     0.90819,     0.90999,     0.90972,     0.90946,      0.9092,     0.90894,     0.90868,     0.90842,     0.90836,     0.90895,     0.90723,     0.90623,     0.90667,     0.90745,     0.90746,     0.90733,      0.9072,     0.90708,     0.90695,     0.90683,      0.9067,\n",
              "            0.90658,     0.90645,     0.90632,      0.9062,     0.90607,     0.90595,     0.90582,     0.90583,     0.90629,     0.90676,     0.90722,     0.90737,     0.90749,     0.90762,     0.90775,     0.90787,       0.908,     0.90812,     0.90825,     0.90837,      0.9085,     0.90863,     0.90875,\n",
              "            0.90785,     0.90697,     0.90707,     0.90717,     0.90728,     0.90738,     0.90748,     0.90759,     0.90769,     0.90779,      0.9079,       0.908,      0.9081,     0.90821,     0.90831,     0.90841,     0.90931,     0.91022,     0.91052,     0.91082,     0.91112,     0.91143,     0.91122,\n",
              "            0.91059,     0.90995,     0.91007,     0.91065,     0.91122,     0.90983,     0.91171,     0.91259,     0.91273,     0.91286,       0.913,     0.91314,     0.91327,     0.91341,     0.91355,     0.91368,     0.91382,     0.91396,      0.9141,     0.91428,     0.91446,     0.91465,     0.91483,\n",
              "            0.91502,      0.9152,     0.91539,     0.91557,     0.91573,     0.91587,     0.91601,     0.91615,      0.9163,     0.91644,     0.91658,     0.91672,     0.91686,       0.917,     0.91714,     0.91729,     0.91747,     0.91765,     0.91783,     0.91801,     0.91819,     0.91837,     0.91855,\n",
              "            0.91873,     0.91888,       0.919,     0.91912,     0.91924,     0.91936,     0.91948,      0.9196,     0.91971,     0.91983,     0.91995,     0.92007,     0.92019,     0.92031,     0.92044,     0.92075,     0.92106,     0.92138,     0.92169,       0.922,     0.92209,     0.92217,     0.92225,\n",
              "            0.92233,     0.92241,     0.92249,     0.92257,     0.92266,     0.92274,     0.92282,      0.9229,     0.92298,     0.92306,     0.92314,     0.92322,      0.9233,     0.92338,     0.92347,     0.92355,     0.92363,     0.92372,      0.9238,     0.92389,     0.92398,     0.92406,     0.92415,\n",
              "            0.92424,     0.92432,     0.92441,      0.9245,     0.92458,     0.92467,     0.92476,     0.92484,     0.92493,     0.92502,      0.9251,     0.92519,     0.92375,     0.92435,     0.92495,     0.92502,     0.92508,     0.92514,      0.9252,     0.92526,     0.92532,     0.92539,     0.92545,\n",
              "            0.92551,     0.92557,     0.92563,     0.92569,     0.92575,     0.92582,     0.92588,     0.92594,       0.926,     0.92606,     0.92612,     0.92618,     0.92625,     0.92631,     0.92637,     0.92643,     0.92649,     0.92655,     0.92647,     0.92632,     0.92617,     0.92601,     0.92586,\n",
              "             0.9257,     0.92555,      0.9254,     0.92524,     0.92509,     0.92493,     0.92478,     0.92497,     0.92557,     0.92617,     0.92651,     0.92675,       0.927,     0.92725,     0.92749,     0.92774,     0.92988,     0.93112,     0.93063,     0.93015,     0.92967,     0.92942,     0.92971,\n",
              "               0.93,      0.9303,     0.93059,     0.93088,     0.92923,     0.92945,     0.92967,     0.92988,      0.9301,     0.93032,     0.93054,     0.93072,     0.93065,     0.93058,     0.93052,     0.93045,     0.93038,     0.93031,     0.93025,     0.93018,     0.93011,     0.93004,     0.92997,\n",
              "            0.92991,     0.92984,     0.92977,      0.9297,     0.92963,     0.92957,      0.9295,     0.92943,     0.92936,      0.9293,     0.92923,     0.92916,     0.92909,     0.92902,     0.92896,     0.92889,     0.92886,     0.92921,     0.92957,     0.92993,     0.93029,     0.93031,     0.92991,\n",
              "            0.92952,     0.92913,     0.92874,     0.92849,     0.92835,     0.92821,     0.92807,     0.92793,     0.92779,     0.92765,     0.92751,     0.92737,     0.92723,     0.92709,     0.92695,     0.92681,     0.92667,     0.92643,     0.92618,     0.92594,     0.92569,     0.92544,      0.9252,\n",
              "            0.92495,     0.92475,     0.92494,     0.92513,     0.92532,     0.92551,      0.9257,     0.92589,     0.92608,     0.92626,     0.92667,     0.92753,     0.92802,     0.92793,     0.92784,     0.92775,     0.92766,     0.92757,     0.92748,     0.92739,      0.9273,     0.92721,     0.92712,\n",
              "            0.92703,     0.92694,     0.92685,     0.92676,     0.92667,     0.92658,     0.92649,      0.9264,     0.92631,     0.92622,     0.92613,      0.9259,     0.92565,      0.9254,     0.92515,     0.92491,     0.92466,     0.92441,     0.92428,     0.92514,     0.92583,     0.92563,     0.92543,\n",
              "            0.92523,     0.92503,     0.92483,     0.92463,     0.92443,     0.92423,     0.92403,     0.92387,     0.92377,     0.92366,     0.92355,     0.92345,     0.92334,     0.92324,     0.92313,     0.92303,     0.92292,     0.92282,     0.92271,     0.92261,      0.9225,      0.9224,     0.92229,\n",
              "            0.92219,     0.92208,     0.92197,     0.92185,     0.92173,     0.92161,     0.92149,     0.92137,     0.92125,     0.92112,       0.921,     0.92088,     0.92076,     0.92064,     0.92052,     0.92039,     0.92027,     0.92015,     0.92003,     0.92033,     0.92076,     0.92119,     0.92162,\n",
              "            0.92177,     0.92187,     0.92198,     0.92208,     0.92219,     0.92229,     0.92239,      0.9225,      0.9226,     0.92271,     0.92281,     0.92292,     0.92302,     0.92313,     0.92323,     0.92333,     0.92123,     0.92101,      0.9208,     0.92059,     0.92037,     0.92016,     0.91995,\n",
              "            0.91973,     0.91952,     0.91951,     0.91969,     0.91987,     0.92005,     0.92023,     0.92042,      0.9206,     0.92078,     0.92096,     0.92107,     0.92096,     0.92085,     0.92074,     0.92062,     0.92051,      0.9204,     0.92028,     0.92017,     0.92006,     0.91995,     0.91983,\n",
              "            0.91972,     0.91961,     0.91949,     0.91938,     0.91927,     0.91915,      0.9214,     0.92227,     0.92224,     0.92187,      0.9215,     0.92113,     0.92076,     0.92036,      0.9199,     0.91945,     0.91899,     0.91853,      0.9163,     0.91609,     0.91587,     0.91565,     0.91543,\n",
              "            0.91522,       0.915,     0.91478,     0.91456,     0.91268,     0.91297,     0.91326,     0.91355,     0.91384,     0.91413,     0.91402,     0.91383,     0.91364,     0.91345,     0.91326,     0.91307,     0.91289,      0.9127,     0.91251,     0.91232,     0.91212,     0.91189,     0.91166,\n",
              "            0.91143,      0.9112,     0.91096,     0.91073,      0.9105,     0.91027,     0.91001,     0.90971,     0.90941,     0.90912,     0.90882,     0.90852,     0.90822,     0.90799,     0.90782,     0.90766,      0.9075,     0.90734,     0.90718,     0.90702,     0.90685,     0.90669,     0.90653,\n",
              "            0.90637,     0.90621,     0.90604,     0.90532,     0.90448,     0.90383,      0.9035,     0.90318,     0.90285,     0.90253,      0.9022,     0.90189,     0.90207,     0.90224,     0.90242,     0.90259,     0.90277,     0.90294,     0.90312,     0.90329,     0.90347,     0.90355,      0.9034,\n",
              "            0.90324,     0.90309,     0.90294,     0.90279,     0.90264,     0.90248,     0.90233,     0.90218,     0.90203,     0.90188,     0.90172,     0.90157,     0.89924,     0.89893,     0.89863,     0.89832,     0.89801,     0.89771,      0.8974,     0.89726,     0.89716,     0.89706,     0.89696,\n",
              "            0.89686,     0.89676,     0.89666,     0.89656,     0.89646,     0.89636,     0.89626,     0.89616,     0.89606,     0.89596,     0.89586,     0.89576,     0.89566,     0.89556,     0.89546,     0.89536,     0.89526,     0.89503,     0.89478,     0.89452,     0.89427,     0.89401,     0.89376,\n",
              "             0.8935,     0.89325,     0.89267,      0.8918,     0.89093,     0.89006,     0.88919,     0.88898,     0.88911,     0.88925,     0.88938,     0.88952,     0.88965,     0.88978,     0.88992,     0.89005,     0.89019,     0.89032,     0.89046,     0.89059,     0.89043,     0.89025,     0.89008,\n",
              "             0.8899,     0.88973,     0.88955,     0.88938,      0.8892,     0.88903,     0.88885,     0.88868,      0.8885,     0.88798,     0.88735,     0.88672,     0.88616,     0.88572,     0.88528,     0.88484,      0.8844,      0.8831,     0.88126,     0.87978,     0.87829,     0.87752,     0.87725,\n",
              "            0.87699,     0.87673,     0.87646,      0.8762,     0.87594,     0.87567,     0.87655,     0.87477,     0.87401,     0.87326,     0.87193,     0.86966,     0.86828,     0.86808,     0.86789,     0.86769,     0.86749,     0.86729,     0.86709,     0.86689,      0.8667,      0.8665,      0.8663,\n",
              "            0.86609,     0.86586,     0.86563,     0.86541,     0.86518,     0.86495,     0.86472,     0.86449,     0.86426,     0.86403,     0.86373,     0.86335,     0.86296,     0.86258,      0.8622,     0.86181,     0.86152,     0.86129,     0.86106,     0.86083,      0.8606,     0.86037,     0.86013,\n",
              "             0.8599,     0.85967,     0.85944,     0.85923,     0.85902,     0.85881,      0.8586,     0.85838,     0.85817,     0.85796,     0.85775,     0.85754,     0.85733,     0.85659,     0.85016,     0.84922,     0.84828,      0.8478,     0.84753,     0.84725,     0.84697,     0.84669,     0.84641,\n",
              "            0.84613,     0.84586,     0.84471,     0.84326,     0.84299,     0.84273,     0.84246,      0.8422,     0.84193,     0.84167,      0.8414,     0.84114,      0.8406,     0.83991,     0.83923,     0.83856,     0.83796,     0.83736,     0.83676,     0.83609,     0.83529,     0.83448,     0.83376,\n",
              "            0.83315,     0.83255,     0.83194,     0.82877,     0.82779,      0.8268,     0.82557,     0.82439,     0.82357,     0.82275,     0.82113,     0.81851,     0.81695,      0.8157,     0.81188,     0.81021,     0.80922,     0.80838,     0.80754,     0.80807,     0.80876,     0.80866,     0.80765,\n",
              "            0.80664,     0.80591,     0.80518,     0.80445,     0.80089,      0.7996,     0.79647,     0.79544,      0.7944,     0.79317,     0.79187,     0.78699,     0.78284,     0.78151,     0.78056,     0.77968,     0.77879,     0.77708,     0.77577,       0.775,     0.77424,     0.77338,     0.76814,\n",
              "            0.76679,     0.76543,     0.76406,     0.76262,      0.7608,     0.75637,     0.75172,     0.74987,     0.74316,     0.74087,     0.73974,      0.7386,     0.73178,     0.72929,     0.72737,     0.71975,     0.71589,     0.70961,     0.70861,     0.70762,     0.70121,      0.6997,     0.69797,\n",
              "             0.6952,     0.69367,     0.69181,       0.688,     0.68495,     0.67559,     0.66876,      0.6483,     0.64062,     0.63691,     0.63057,     0.61704,     0.59495,     0.58621,      0.5684,     0.53534,     0.51622,     0.50443,     0.46422,     0.45158,     0.41283,     0.40378,     0.35318,\n",
              "            0.32897,     0.28375,     0.21961,     0.19127,     0.16203,    0.094607,    0.075119,    0.041959,    0.014529,           0,           0]]), 'Confidence', 'F1'], [array([          0,    0.001001,    0.002002,    0.003003,    0.004004,    0.005005,    0.006006,    0.007007,    0.008008,    0.009009,     0.01001,    0.011011,    0.012012,    0.013013,    0.014014,    0.015015,    0.016016,    0.017017,    0.018018,    0.019019,     0.02002,    0.021021,    0.022022,    0.023023,\n",
              "          0.024024,    0.025025,    0.026026,    0.027027,    0.028028,    0.029029,     0.03003,    0.031031,    0.032032,    0.033033,    0.034034,    0.035035,    0.036036,    0.037037,    0.038038,    0.039039,     0.04004,    0.041041,    0.042042,    0.043043,    0.044044,    0.045045,    0.046046,    0.047047,\n",
              "          0.048048,    0.049049,     0.05005,    0.051051,    0.052052,    0.053053,    0.054054,    0.055055,    0.056056,    0.057057,    0.058058,    0.059059,     0.06006,    0.061061,    0.062062,    0.063063,    0.064064,    0.065065,    0.066066,    0.067067,    0.068068,    0.069069,     0.07007,    0.071071,\n",
              "          0.072072,    0.073073,    0.074074,    0.075075,    0.076076,    0.077077,    0.078078,    0.079079,     0.08008,    0.081081,    0.082082,    0.083083,    0.084084,    0.085085,    0.086086,    0.087087,    0.088088,    0.089089,     0.09009,    0.091091,    0.092092,    0.093093,    0.094094,    0.095095,\n",
              "          0.096096,    0.097097,    0.098098,    0.099099,      0.1001,      0.1011,      0.1021,      0.1031,      0.1041,     0.10511,     0.10611,     0.10711,     0.10811,     0.10911,     0.11011,     0.11111,     0.11211,     0.11311,     0.11411,     0.11512,     0.11612,     0.11712,     0.11812,     0.11912,\n",
              "           0.12012,     0.12112,     0.12212,     0.12312,     0.12412,     0.12513,     0.12613,     0.12713,     0.12813,     0.12913,     0.13013,     0.13113,     0.13213,     0.13313,     0.13413,     0.13514,     0.13614,     0.13714,     0.13814,     0.13914,     0.14014,     0.14114,     0.14214,     0.14314,\n",
              "           0.14414,     0.14515,     0.14615,     0.14715,     0.14815,     0.14915,     0.15015,     0.15115,     0.15215,     0.15315,     0.15415,     0.15516,     0.15616,     0.15716,     0.15816,     0.15916,     0.16016,     0.16116,     0.16216,     0.16316,     0.16416,     0.16517,     0.16617,     0.16717,\n",
              "           0.16817,     0.16917,     0.17017,     0.17117,     0.17217,     0.17317,     0.17417,     0.17518,     0.17618,     0.17718,     0.17818,     0.17918,     0.18018,     0.18118,     0.18218,     0.18318,     0.18418,     0.18519,     0.18619,     0.18719,     0.18819,     0.18919,     0.19019,     0.19119,\n",
              "           0.19219,     0.19319,     0.19419,      0.1952,      0.1962,      0.1972,      0.1982,      0.1992,      0.2002,      0.2012,      0.2022,      0.2032,      0.2042,     0.20521,     0.20621,     0.20721,     0.20821,     0.20921,     0.21021,     0.21121,     0.21221,     0.21321,     0.21421,     0.21522,\n",
              "           0.21622,     0.21722,     0.21822,     0.21922,     0.22022,     0.22122,     0.22222,     0.22322,     0.22422,     0.22523,     0.22623,     0.22723,     0.22823,     0.22923,     0.23023,     0.23123,     0.23223,     0.23323,     0.23423,     0.23524,     0.23624,     0.23724,     0.23824,     0.23924,\n",
              "           0.24024,     0.24124,     0.24224,     0.24324,     0.24424,     0.24525,     0.24625,     0.24725,     0.24825,     0.24925,     0.25025,     0.25125,     0.25225,     0.25325,     0.25425,     0.25526,     0.25626,     0.25726,     0.25826,     0.25926,     0.26026,     0.26126,     0.26226,     0.26326,\n",
              "           0.26426,     0.26527,     0.26627,     0.26727,     0.26827,     0.26927,     0.27027,     0.27127,     0.27227,     0.27327,     0.27427,     0.27528,     0.27628,     0.27728,     0.27828,     0.27928,     0.28028,     0.28128,     0.28228,     0.28328,     0.28428,     0.28529,     0.28629,     0.28729,\n",
              "           0.28829,     0.28929,     0.29029,     0.29129,     0.29229,     0.29329,     0.29429,      0.2953,      0.2963,      0.2973,      0.2983,      0.2993,      0.3003,      0.3013,      0.3023,      0.3033,      0.3043,     0.30531,     0.30631,     0.30731,     0.30831,     0.30931,     0.31031,     0.31131,\n",
              "           0.31231,     0.31331,     0.31431,     0.31532,     0.31632,     0.31732,     0.31832,     0.31932,     0.32032,     0.32132,     0.32232,     0.32332,     0.32432,     0.32533,     0.32633,     0.32733,     0.32833,     0.32933,     0.33033,     0.33133,     0.33233,     0.33333,     0.33433,     0.33534,\n",
              "           0.33634,     0.33734,     0.33834,     0.33934,     0.34034,     0.34134,     0.34234,     0.34334,     0.34434,     0.34535,     0.34635,     0.34735,     0.34835,     0.34935,     0.35035,     0.35135,     0.35235,     0.35335,     0.35435,     0.35536,     0.35636,     0.35736,     0.35836,     0.35936,\n",
              "           0.36036,     0.36136,     0.36236,     0.36336,     0.36436,     0.36537,     0.36637,     0.36737,     0.36837,     0.36937,     0.37037,     0.37137,     0.37237,     0.37337,     0.37437,     0.37538,     0.37638,     0.37738,     0.37838,     0.37938,     0.38038,     0.38138,     0.38238,     0.38338,\n",
              "           0.38438,     0.38539,     0.38639,     0.38739,     0.38839,     0.38939,     0.39039,     0.39139,     0.39239,     0.39339,     0.39439,      0.3954,      0.3964,      0.3974,      0.3984,      0.3994,      0.4004,      0.4014,      0.4024,      0.4034,      0.4044,     0.40541,     0.40641,     0.40741,\n",
              "           0.40841,     0.40941,     0.41041,     0.41141,     0.41241,     0.41341,     0.41441,     0.41542,     0.41642,     0.41742,     0.41842,     0.41942,     0.42042,     0.42142,     0.42242,     0.42342,     0.42442,     0.42543,     0.42643,     0.42743,     0.42843,     0.42943,     0.43043,     0.43143,\n",
              "           0.43243,     0.43343,     0.43443,     0.43544,     0.43644,     0.43744,     0.43844,     0.43944,     0.44044,     0.44144,     0.44244,     0.44344,     0.44444,     0.44545,     0.44645,     0.44745,     0.44845,     0.44945,     0.45045,     0.45145,     0.45245,     0.45345,     0.45445,     0.45546,\n",
              "           0.45646,     0.45746,     0.45846,     0.45946,     0.46046,     0.46146,     0.46246,     0.46346,     0.46446,     0.46547,     0.46647,     0.46747,     0.46847,     0.46947,     0.47047,     0.47147,     0.47247,     0.47347,     0.47447,     0.47548,     0.47648,     0.47748,     0.47848,     0.47948,\n",
              "           0.48048,     0.48148,     0.48248,     0.48348,     0.48448,     0.48549,     0.48649,     0.48749,     0.48849,     0.48949,     0.49049,     0.49149,     0.49249,     0.49349,     0.49449,      0.4955,      0.4965,      0.4975,      0.4985,      0.4995,      0.5005,      0.5015,      0.5025,      0.5035,\n",
              "            0.5045,     0.50551,     0.50651,     0.50751,     0.50851,     0.50951,     0.51051,     0.51151,     0.51251,     0.51351,     0.51451,     0.51552,     0.51652,     0.51752,     0.51852,     0.51952,     0.52052,     0.52152,     0.52252,     0.52352,     0.52452,     0.52553,     0.52653,     0.52753,\n",
              "           0.52853,     0.52953,     0.53053,     0.53153,     0.53253,     0.53353,     0.53453,     0.53554,     0.53654,     0.53754,     0.53854,     0.53954,     0.54054,     0.54154,     0.54254,     0.54354,     0.54454,     0.54555,     0.54655,     0.54755,     0.54855,     0.54955,     0.55055,     0.55155,\n",
              "           0.55255,     0.55355,     0.55455,     0.55556,     0.55656,     0.55756,     0.55856,     0.55956,     0.56056,     0.56156,     0.56256,     0.56356,     0.56456,     0.56557,     0.56657,     0.56757,     0.56857,     0.56957,     0.57057,     0.57157,     0.57257,     0.57357,     0.57457,     0.57558,\n",
              "           0.57658,     0.57758,     0.57858,     0.57958,     0.58058,     0.58158,     0.58258,     0.58358,     0.58458,     0.58559,     0.58659,     0.58759,     0.58859,     0.58959,     0.59059,     0.59159,     0.59259,     0.59359,     0.59459,      0.5956,      0.5966,      0.5976,      0.5986,      0.5996,\n",
              "            0.6006,      0.6016,      0.6026,      0.6036,      0.6046,     0.60561,     0.60661,     0.60761,     0.60861,     0.60961,     0.61061,     0.61161,     0.61261,     0.61361,     0.61461,     0.61562,     0.61662,     0.61762,     0.61862,     0.61962,     0.62062,     0.62162,     0.62262,     0.62362,\n",
              "           0.62462,     0.62563,     0.62663,     0.62763,     0.62863,     0.62963,     0.63063,     0.63163,     0.63263,     0.63363,     0.63463,     0.63564,     0.63664,     0.63764,     0.63864,     0.63964,     0.64064,     0.64164,     0.64264,     0.64364,     0.64464,     0.64565,     0.64665,     0.64765,\n",
              "           0.64865,     0.64965,     0.65065,     0.65165,     0.65265,     0.65365,     0.65465,     0.65566,     0.65666,     0.65766,     0.65866,     0.65966,     0.66066,     0.66166,     0.66266,     0.66366,     0.66466,     0.66567,     0.66667,     0.66767,     0.66867,     0.66967,     0.67067,     0.67167,\n",
              "           0.67267,     0.67367,     0.67467,     0.67568,     0.67668,     0.67768,     0.67868,     0.67968,     0.68068,     0.68168,     0.68268,     0.68368,     0.68468,     0.68569,     0.68669,     0.68769,     0.68869,     0.68969,     0.69069,     0.69169,     0.69269,     0.69369,     0.69469,      0.6957,\n",
              "            0.6967,      0.6977,      0.6987,      0.6997,      0.7007,      0.7017,      0.7027,      0.7037,      0.7047,     0.70571,     0.70671,     0.70771,     0.70871,     0.70971,     0.71071,     0.71171,     0.71271,     0.71371,     0.71471,     0.71572,     0.71672,     0.71772,     0.71872,     0.71972,\n",
              "           0.72072,     0.72172,     0.72272,     0.72372,     0.72472,     0.72573,     0.72673,     0.72773,     0.72873,     0.72973,     0.73073,     0.73173,     0.73273,     0.73373,     0.73473,     0.73574,     0.73674,     0.73774,     0.73874,     0.73974,     0.74074,     0.74174,     0.74274,     0.74374,\n",
              "           0.74474,     0.74575,     0.74675,     0.74775,     0.74875,     0.74975,     0.75075,     0.75175,     0.75275,     0.75375,     0.75475,     0.75576,     0.75676,     0.75776,     0.75876,     0.75976,     0.76076,     0.76176,     0.76276,     0.76376,     0.76476,     0.76577,     0.76677,     0.76777,\n",
              "           0.76877,     0.76977,     0.77077,     0.77177,     0.77277,     0.77377,     0.77477,     0.77578,     0.77678,     0.77778,     0.77878,     0.77978,     0.78078,     0.78178,     0.78278,     0.78378,     0.78478,     0.78579,     0.78679,     0.78779,     0.78879,     0.78979,     0.79079,     0.79179,\n",
              "           0.79279,     0.79379,     0.79479,      0.7958,      0.7968,      0.7978,      0.7988,      0.7998,      0.8008,      0.8018,      0.8028,      0.8038,      0.8048,     0.80581,     0.80681,     0.80781,     0.80881,     0.80981,     0.81081,     0.81181,     0.81281,     0.81381,     0.81481,     0.81582,\n",
              "           0.81682,     0.81782,     0.81882,     0.81982,     0.82082,     0.82182,     0.82282,     0.82382,     0.82482,     0.82583,     0.82683,     0.82783,     0.82883,     0.82983,     0.83083,     0.83183,     0.83283,     0.83383,     0.83483,     0.83584,     0.83684,     0.83784,     0.83884,     0.83984,\n",
              "           0.84084,     0.84184,     0.84284,     0.84384,     0.84484,     0.84585,     0.84685,     0.84785,     0.84885,     0.84985,     0.85085,     0.85185,     0.85285,     0.85385,     0.85485,     0.85586,     0.85686,     0.85786,     0.85886,     0.85986,     0.86086,     0.86186,     0.86286,     0.86386,\n",
              "           0.86486,     0.86587,     0.86687,     0.86787,     0.86887,     0.86987,     0.87087,     0.87187,     0.87287,     0.87387,     0.87487,     0.87588,     0.87688,     0.87788,     0.87888,     0.87988,     0.88088,     0.88188,     0.88288,     0.88388,     0.88488,     0.88589,     0.88689,     0.88789,\n",
              "           0.88889,     0.88989,     0.89089,     0.89189,     0.89289,     0.89389,     0.89489,      0.8959,      0.8969,      0.8979,      0.8989,      0.8999,      0.9009,      0.9019,      0.9029,      0.9039,      0.9049,     0.90591,     0.90691,     0.90791,     0.90891,     0.90991,     0.91091,     0.91191,\n",
              "           0.91291,     0.91391,     0.91491,     0.91592,     0.91692,     0.91792,     0.91892,     0.91992,     0.92092,     0.92192,     0.92292,     0.92392,     0.92492,     0.92593,     0.92693,     0.92793,     0.92893,     0.92993,     0.93093,     0.93193,     0.93293,     0.93393,     0.93493,     0.93594,\n",
              "           0.93694,     0.93794,     0.93894,     0.93994,     0.94094,     0.94194,     0.94294,     0.94394,     0.94494,     0.94595,     0.94695,     0.94795,     0.94895,     0.94995,     0.95095,     0.95195,     0.95295,     0.95395,     0.95495,     0.95596,     0.95696,     0.95796,     0.95896,     0.95996,\n",
              "           0.96096,     0.96196,     0.96296,     0.96396,     0.96496,     0.96597,     0.96697,     0.96797,     0.96897,     0.96997,     0.97097,     0.97197,     0.97297,     0.97397,     0.97497,     0.97598,     0.97698,     0.97798,     0.97898,     0.97998,     0.98098,     0.98198,     0.98298,     0.98398,\n",
              "           0.98498,     0.98599,     0.98699,     0.98799,     0.98899,     0.98999,     0.99099,     0.99199,     0.99299,     0.99399,     0.99499,       0.996,       0.997,       0.998,       0.999,           1]), array([[    0.16934,     0.17078,     0.29965,     0.36969,      0.4206,     0.46081,     0.49445,     0.52647,     0.54369,     0.55986,      0.5723,     0.57955,     0.58495,     0.59401,     0.59987,     0.60289,     0.61573,     0.61793,     0.61872,      0.6216,     0.62611,     0.62799,      0.6355,\n",
              "            0.64151,      0.6492,     0.65649,     0.66495,     0.67338,     0.68136,     0.68736,       0.696,     0.69866,     0.70356,     0.70726,     0.71015,     0.71455,     0.72111,     0.72536,     0.72723,     0.72803,     0.72898,     0.73224,     0.73359,      0.7388,     0.73963,     0.74047,\n",
              "            0.74192,     0.74332,     0.74453,     0.74869,     0.75054,     0.75138,     0.75309,     0.76046,     0.76272,     0.76355,     0.76439,     0.76736,     0.76832,     0.76902,     0.76947,     0.76992,     0.77037,     0.77082,     0.77262,     0.77357,     0.77414,     0.77471,      0.7754,\n",
              "            0.77781,     0.77826,     0.77871,     0.77916,     0.77961,     0.78327,     0.78564,     0.78684,     0.78752,     0.78821,     0.78959,     0.79197,     0.79335,     0.79377,      0.7942,     0.79463,     0.79505,     0.79554,     0.79625,     0.79696,     0.79767,     0.80029,     0.80089,\n",
              "            0.80148,     0.80208,     0.80308,     0.80436,     0.80639,     0.80802,     0.80941,     0.81136,      0.8134,     0.81392,     0.81426,     0.81459,     0.81492,     0.81525,     0.81559,     0.81592,     0.81812,     0.81942,      0.8205,     0.82192,     0.82353,     0.82509,     0.82843,\n",
              "            0.82864,     0.82886,     0.82907,     0.82929,      0.8295,     0.82972,     0.82993,     0.83015,     0.83036,     0.83058,     0.83079,     0.83112,     0.83146,     0.83181,     0.83215,      0.8325,     0.83284,     0.83318,     0.83501,     0.83799,     0.83992,     0.84116,     0.84163,\n",
              "             0.8421,     0.84257,     0.84304,     0.84351,     0.84517,      0.8471,     0.84893,     0.84964,     0.85036,     0.85108,     0.85178,     0.85245,     0.85313,     0.85381,     0.85394,     0.85379,     0.85364,     0.85341,     0.85314,     0.85369,     0.85424,     0.85479,     0.85533,\n",
              "            0.85601,     0.85739,     0.85862,     0.85925,     0.85989,     0.86052,     0.86115,     0.86143,     0.86167,     0.86192,     0.86216,     0.86241,     0.86266,      0.8629,     0.86315,     0.86339,     0.86364,     0.86388,     0.86449,     0.86517,     0.86586,     0.86654,     0.86714,\n",
              "            0.86772,      0.8683,     0.86888,      0.8722,     0.87214,     0.87208,     0.87202,     0.87197,     0.87191,     0.87185,     0.87213,     0.87443,     0.87405,     0.87383,     0.87496,     0.87642,      0.8766,     0.87657,     0.87654,     0.87652,     0.87649,     0.87646,     0.87644,\n",
              "            0.87641,     0.87638,     0.87635,     0.87633,      0.8763,     0.87627,     0.87624,     0.87642,     0.87729,     0.87816,     0.87903,     0.87931,     0.87954,     0.87978,     0.88001,     0.88025,     0.88049,     0.88072,     0.88096,      0.8812,     0.88143,     0.88167,     0.88191,\n",
              "            0.88177,     0.88163,     0.88183,     0.88202,     0.88222,     0.88241,     0.88261,     0.88281,       0.883,      0.8832,     0.88339,     0.88359,     0.88378,     0.88398,     0.88417,     0.88437,     0.88607,      0.8878,     0.88838,     0.88895,     0.88953,      0.8901,      0.8903,\n",
              "            0.89017,     0.89005,     0.89068,     0.89179,      0.8929,     0.89344,     0.89708,     0.89878,     0.89905,     0.89931,     0.89958,     0.89984,     0.90011,     0.90037,     0.90064,     0.90091,     0.90117,     0.90144,     0.90171,     0.90207,     0.90242,     0.90278,     0.90314,\n",
              "             0.9035,     0.90386,     0.90422,     0.90458,      0.9049,     0.90517,     0.90545,     0.90572,       0.906,     0.90627,     0.90655,     0.90682,      0.9071,     0.90738,     0.90765,     0.90795,      0.9083,     0.90866,     0.90901,     0.90936,     0.90972,     0.91007,     0.91043,\n",
              "            0.91078,     0.91107,     0.91131,     0.91154,     0.91177,     0.91201,     0.91224,     0.91247,     0.91271,     0.91294,     0.91317,     0.91341,     0.91364,     0.91387,     0.91414,     0.91475,     0.91537,     0.91599,      0.9166,     0.91722,      0.9174,     0.91756,     0.91772,\n",
              "            0.91788,     0.91804,      0.9182,     0.91836,     0.91852,     0.91868,     0.91884,       0.919,     0.91916,     0.91932,     0.91948,     0.91964,     0.91981,     0.91997,     0.92013,     0.92029,     0.92045,     0.92062,      0.9208,     0.92097,     0.92114,     0.92131,     0.92148,\n",
              "            0.92166,     0.92183,       0.922,     0.92217,     0.92235,     0.92252,     0.92269,     0.92286,     0.92304,     0.92321,     0.92338,     0.92355,     0.92415,     0.92535,     0.92655,     0.92669,     0.92682,     0.92694,     0.92707,     0.92719,     0.92731,     0.92744,     0.92756,\n",
              "            0.92768,     0.92781,     0.92793,     0.92805,     0.92818,      0.9283,     0.92842,     0.92855,     0.92867,     0.92879,     0.92892,     0.92904,     0.92916,     0.92929,     0.92941,     0.92953,     0.92966,     0.92978,     0.92981,     0.92979,     0.92977,     0.92975,     0.92973,\n",
              "            0.92971,     0.92969,     0.92967,     0.92965,     0.92963,     0.92961,     0.92959,     0.93013,     0.93135,     0.93258,     0.93325,     0.93375,     0.93425,     0.93475,     0.93526,     0.93576,     0.94012,     0.94285,     0.94279,     0.94274,     0.94269,     0.94284,     0.94344,\n",
              "            0.94404,     0.94465,     0.94525,     0.94586,     0.94616,     0.94662,     0.94707,     0.94752,     0.94798,     0.94843,     0.94888,     0.94927,     0.94927,     0.94926,     0.94925,     0.94925,     0.94924,     0.94924,     0.94923,     0.94922,     0.94922,     0.94921,      0.9492,\n",
              "             0.9492,     0.94919,     0.94918,     0.94918,     0.94917,     0.94916,     0.94916,     0.94915,     0.94914,     0.94914,     0.94913,     0.94912,     0.94912,     0.94911,      0.9491,      0.9491,     0.94915,      0.9499,     0.95065,      0.9514,     0.95214,     0.95254,      0.9525,\n",
              "            0.95247,     0.95243,      0.9524,     0.95237,     0.95236,     0.95235,     0.95234,     0.95232,     0.95231,      0.9523,     0.95228,     0.95227,     0.95226,     0.95225,     0.95223,     0.95222,     0.95221,     0.95219,     0.95216,     0.95214,     0.95212,     0.95209,     0.95207,\n",
              "            0.95205,     0.95207,     0.95248,     0.95288,     0.95328,     0.95368,     0.95408,     0.95448,     0.95488,     0.95529,     0.95615,     0.95798,     0.95911,      0.9591,     0.95909,     0.95908,     0.95908,     0.95907,     0.95906,     0.95906,     0.95905,     0.95904,     0.95903,\n",
              "            0.95903,     0.95902,     0.95901,     0.95901,       0.959,     0.95899,     0.95898,     0.95898,     0.95897,     0.95896,     0.95896,     0.95894,     0.95892,      0.9589,     0.95888,     0.95886,     0.95884,     0.95882,     0.95901,     0.96085,      0.9624,     0.96239,     0.96237,\n",
              "            0.96236,     0.96235,     0.96233,     0.96232,      0.9623,     0.96229,     0.96227,     0.96226,     0.96225,     0.96225,     0.96224,     0.96223,     0.96222,     0.96221,     0.96221,      0.9622,     0.96219,     0.96218,     0.96218,     0.96217,     0.96216,     0.96215,     0.96215,\n",
              "            0.96214,     0.96213,     0.96212,     0.96211,      0.9621,      0.9621,     0.96209,     0.96208,     0.96207,     0.96206,     0.96205,     0.96204,     0.96203,     0.96202,     0.96202,     0.96201,       0.962,     0.96199,     0.96198,      0.9627,     0.96364,     0.96458,     0.96552,\n",
              "            0.96585,     0.96608,     0.96631,     0.96654,     0.96677,       0.967,     0.96723,     0.96746,     0.96769,     0.96792,     0.96815,     0.96838,     0.96861,     0.96884,     0.96907,      0.9693,     0.96922,     0.96921,      0.9692,     0.96918,     0.96917,     0.96916,     0.96914,\n",
              "            0.96913,     0.96912,     0.96932,     0.96972,     0.97013,     0.97053,     0.97094,     0.97134,     0.97175,     0.97215,     0.97256,     0.97287,     0.97286,     0.97285,     0.97285,     0.97284,     0.97284,     0.97283,     0.97282,     0.97282,     0.97281,     0.97281,      0.9728,\n",
              "            0.97279,     0.97279,     0.97278,     0.97278,     0.97277,     0.97276,     0.97789,     0.97985,     0.98038,     0.98037,     0.98035,     0.98034,     0.98032,     0.98031,     0.98029,     0.98027,     0.98026,     0.98024,     0.98015,     0.98014,     0.98013,     0.98012,     0.98012,\n",
              "            0.98011,      0.9801,     0.98009,     0.98008,     0.98047,     0.98114,     0.98181,     0.98249,     0.98316,     0.98383,     0.98393,     0.98392,     0.98392,     0.98391,     0.98391,      0.9839,     0.98389,     0.98389,     0.98388,     0.98388,     0.98387,     0.98386,     0.98386,\n",
              "            0.98385,     0.98384,     0.98383,     0.98383,     0.98382,     0.98381,      0.9838,     0.98379,     0.98378,     0.98377,     0.98376,     0.98375,     0.98374,     0.98374,     0.98373,     0.98373,     0.98372,     0.98372,     0.98371,     0.98371,      0.9837,      0.9837,     0.98369,\n",
              "            0.98368,     0.98368,     0.98367,     0.98365,     0.98362,      0.9836,     0.98359,     0.98358,     0.98357,     0.98356,     0.98355,     0.98356,     0.98397,     0.98439,     0.98481,     0.98522,     0.98564,     0.98606,     0.98647,     0.98689,     0.98731,      0.9876,      0.9876,\n",
              "            0.98759,     0.98759,     0.98759,     0.98758,     0.98758,     0.98758,     0.98757,     0.98757,     0.98756,     0.98756,     0.98756,     0.98755,      0.9875,     0.98749,     0.98748,     0.98747,     0.98746,     0.98746,     0.98745,     0.98745,     0.98744,     0.98744,     0.98744,\n",
              "            0.98744,     0.98743,     0.98743,     0.98743,     0.98743,     0.98742,     0.98742,     0.98742,     0.98742,     0.98741,     0.98741,     0.98741,     0.98741,      0.9874,      0.9874,      0.9874,      0.9874,     0.98739,     0.98738,     0.98738,     0.98737,     0.98736,     0.98736,\n",
              "            0.98735,     0.98734,     0.98733,     0.98731,     0.98729,     0.98726,     0.98724,     0.98745,     0.98778,     0.98812,     0.98845,     0.98878,     0.98911,     0.98945,     0.98978,     0.99011,     0.99045,     0.99078,     0.99111,     0.99144,     0.99145,     0.99145,     0.99144,\n",
              "            0.99144,     0.99144,     0.99144,     0.99143,     0.99143,     0.99143,     0.99142,     0.99142,     0.99142,     0.99141,      0.9914,     0.99139,     0.99138,     0.99137,     0.99136,     0.99135,     0.99135,     0.99132,     0.99129,     0.99127,     0.99124,     0.99123,     0.99122,\n",
              "            0.99122,     0.99121,     0.99121,      0.9912,      0.9912,     0.99119,     0.99557,     0.99555,     0.99555,     0.99554,     0.99553,     0.99551,     0.99549,     0.99549,     0.99549,     0.99549,     0.99549,     0.99549,     0.99548,     0.99548,     0.99548,     0.99548,     0.99548,\n",
              "            0.99547,     0.99547,     0.99547,     0.99547,     0.99547,     0.99546,     0.99546,     0.99546,     0.99546,     0.99546,     0.99545,     0.99545,     0.99545,     0.99544,     0.99544,     0.99544,     0.99543,     0.99543,     0.99543,     0.99543,     0.99542,     0.99542,     0.99542,\n",
              "            0.99542,     0.99542,     0.99541,     0.99541,     0.99541,     0.99541,     0.99541,      0.9954,      0.9954,      0.9954,      0.9954,      0.9954,     0.99539,     0.99539,     0.99533,     0.99532,     0.99531,      0.9953,      0.9953,      0.9953,      0.9953,     0.99529,     0.99529,\n",
              "            0.99529,     0.99528,     0.99527,     0.99526,     0.99526,     0.99525,     0.99525,     0.99525,     0.99525,     0.99524,     0.99524,     0.99524,     0.99523,     0.99523,     0.99522,     0.99521,     0.99521,      0.9952,      0.9952,     0.99519,     0.99518,     0.99517,     0.99517,\n",
              "            0.99516,     0.99515,     0.99515,     0.99512,     0.99511,      0.9951,     0.99508,     0.99507,     0.99506,     0.99506,     0.99504,     0.99501,       0.995,     0.99498,     0.99494,     0.99493,     0.99492,     0.99491,      0.9949,     0.99678,     0.99887,           1,           1,\n",
              "                  1,           1,           1,           1,           1,           1,           1,           1,           1,           1,           1,           1,           1,           1,           1,           1,           1,           1,           1,           1,           1,           1,           1,\n",
              "                  1,           1,           1,           1,           1,           1,           1,           1,           1,           1,           1,           1,           1,           1,           1,           1,           1,           1,           1,           1,           1,           1,           1,\n",
              "                  1,           1,           1,           1,           1,           1,           1,           1,           1,           1,           1,           1,           1,           1,           1,           1,           1,           1,           1,           1,           1,           1,           1,\n",
              "                  1,           1,           1,           1,           1,           1,           1,           1,           1,           1,           1]]), 'Confidence', 'Precision'], [array([          0,    0.001001,    0.002002,    0.003003,    0.004004,    0.005005,    0.006006,    0.007007,    0.008008,    0.009009,     0.01001,    0.011011,    0.012012,    0.013013,    0.014014,    0.015015,    0.016016,    0.017017,    0.018018,    0.019019,     0.02002,    0.021021,    0.022022,    0.023023,\n",
              "          0.024024,    0.025025,    0.026026,    0.027027,    0.028028,    0.029029,     0.03003,    0.031031,    0.032032,    0.033033,    0.034034,    0.035035,    0.036036,    0.037037,    0.038038,    0.039039,     0.04004,    0.041041,    0.042042,    0.043043,    0.044044,    0.045045,    0.046046,    0.047047,\n",
              "          0.048048,    0.049049,     0.05005,    0.051051,    0.052052,    0.053053,    0.054054,    0.055055,    0.056056,    0.057057,    0.058058,    0.059059,     0.06006,    0.061061,    0.062062,    0.063063,    0.064064,    0.065065,    0.066066,    0.067067,    0.068068,    0.069069,     0.07007,    0.071071,\n",
              "          0.072072,    0.073073,    0.074074,    0.075075,    0.076076,    0.077077,    0.078078,    0.079079,     0.08008,    0.081081,    0.082082,    0.083083,    0.084084,    0.085085,    0.086086,    0.087087,    0.088088,    0.089089,     0.09009,    0.091091,    0.092092,    0.093093,    0.094094,    0.095095,\n",
              "          0.096096,    0.097097,    0.098098,    0.099099,      0.1001,      0.1011,      0.1021,      0.1031,      0.1041,     0.10511,     0.10611,     0.10711,     0.10811,     0.10911,     0.11011,     0.11111,     0.11211,     0.11311,     0.11411,     0.11512,     0.11612,     0.11712,     0.11812,     0.11912,\n",
              "           0.12012,     0.12112,     0.12212,     0.12312,     0.12412,     0.12513,     0.12613,     0.12713,     0.12813,     0.12913,     0.13013,     0.13113,     0.13213,     0.13313,     0.13413,     0.13514,     0.13614,     0.13714,     0.13814,     0.13914,     0.14014,     0.14114,     0.14214,     0.14314,\n",
              "           0.14414,     0.14515,     0.14615,     0.14715,     0.14815,     0.14915,     0.15015,     0.15115,     0.15215,     0.15315,     0.15415,     0.15516,     0.15616,     0.15716,     0.15816,     0.15916,     0.16016,     0.16116,     0.16216,     0.16316,     0.16416,     0.16517,     0.16617,     0.16717,\n",
              "           0.16817,     0.16917,     0.17017,     0.17117,     0.17217,     0.17317,     0.17417,     0.17518,     0.17618,     0.17718,     0.17818,     0.17918,     0.18018,     0.18118,     0.18218,     0.18318,     0.18418,     0.18519,     0.18619,     0.18719,     0.18819,     0.18919,     0.19019,     0.19119,\n",
              "           0.19219,     0.19319,     0.19419,      0.1952,      0.1962,      0.1972,      0.1982,      0.1992,      0.2002,      0.2012,      0.2022,      0.2032,      0.2042,     0.20521,     0.20621,     0.20721,     0.20821,     0.20921,     0.21021,     0.21121,     0.21221,     0.21321,     0.21421,     0.21522,\n",
              "           0.21622,     0.21722,     0.21822,     0.21922,     0.22022,     0.22122,     0.22222,     0.22322,     0.22422,     0.22523,     0.22623,     0.22723,     0.22823,     0.22923,     0.23023,     0.23123,     0.23223,     0.23323,     0.23423,     0.23524,     0.23624,     0.23724,     0.23824,     0.23924,\n",
              "           0.24024,     0.24124,     0.24224,     0.24324,     0.24424,     0.24525,     0.24625,     0.24725,     0.24825,     0.24925,     0.25025,     0.25125,     0.25225,     0.25325,     0.25425,     0.25526,     0.25626,     0.25726,     0.25826,     0.25926,     0.26026,     0.26126,     0.26226,     0.26326,\n",
              "           0.26426,     0.26527,     0.26627,     0.26727,     0.26827,     0.26927,     0.27027,     0.27127,     0.27227,     0.27327,     0.27427,     0.27528,     0.27628,     0.27728,     0.27828,     0.27928,     0.28028,     0.28128,     0.28228,     0.28328,     0.28428,     0.28529,     0.28629,     0.28729,\n",
              "           0.28829,     0.28929,     0.29029,     0.29129,     0.29229,     0.29329,     0.29429,      0.2953,      0.2963,      0.2973,      0.2983,      0.2993,      0.3003,      0.3013,      0.3023,      0.3033,      0.3043,     0.30531,     0.30631,     0.30731,     0.30831,     0.30931,     0.31031,     0.31131,\n",
              "           0.31231,     0.31331,     0.31431,     0.31532,     0.31632,     0.31732,     0.31832,     0.31932,     0.32032,     0.32132,     0.32232,     0.32332,     0.32432,     0.32533,     0.32633,     0.32733,     0.32833,     0.32933,     0.33033,     0.33133,     0.33233,     0.33333,     0.33433,     0.33534,\n",
              "           0.33634,     0.33734,     0.33834,     0.33934,     0.34034,     0.34134,     0.34234,     0.34334,     0.34434,     0.34535,     0.34635,     0.34735,     0.34835,     0.34935,     0.35035,     0.35135,     0.35235,     0.35335,     0.35435,     0.35536,     0.35636,     0.35736,     0.35836,     0.35936,\n",
              "           0.36036,     0.36136,     0.36236,     0.36336,     0.36436,     0.36537,     0.36637,     0.36737,     0.36837,     0.36937,     0.37037,     0.37137,     0.37237,     0.37337,     0.37437,     0.37538,     0.37638,     0.37738,     0.37838,     0.37938,     0.38038,     0.38138,     0.38238,     0.38338,\n",
              "           0.38438,     0.38539,     0.38639,     0.38739,     0.38839,     0.38939,     0.39039,     0.39139,     0.39239,     0.39339,     0.39439,      0.3954,      0.3964,      0.3974,      0.3984,      0.3994,      0.4004,      0.4014,      0.4024,      0.4034,      0.4044,     0.40541,     0.40641,     0.40741,\n",
              "           0.40841,     0.40941,     0.41041,     0.41141,     0.41241,     0.41341,     0.41441,     0.41542,     0.41642,     0.41742,     0.41842,     0.41942,     0.42042,     0.42142,     0.42242,     0.42342,     0.42442,     0.42543,     0.42643,     0.42743,     0.42843,     0.42943,     0.43043,     0.43143,\n",
              "           0.43243,     0.43343,     0.43443,     0.43544,     0.43644,     0.43744,     0.43844,     0.43944,     0.44044,     0.44144,     0.44244,     0.44344,     0.44444,     0.44545,     0.44645,     0.44745,     0.44845,     0.44945,     0.45045,     0.45145,     0.45245,     0.45345,     0.45445,     0.45546,\n",
              "           0.45646,     0.45746,     0.45846,     0.45946,     0.46046,     0.46146,     0.46246,     0.46346,     0.46446,     0.46547,     0.46647,     0.46747,     0.46847,     0.46947,     0.47047,     0.47147,     0.47247,     0.47347,     0.47447,     0.47548,     0.47648,     0.47748,     0.47848,     0.47948,\n",
              "           0.48048,     0.48148,     0.48248,     0.48348,     0.48448,     0.48549,     0.48649,     0.48749,     0.48849,     0.48949,     0.49049,     0.49149,     0.49249,     0.49349,     0.49449,      0.4955,      0.4965,      0.4975,      0.4985,      0.4995,      0.5005,      0.5015,      0.5025,      0.5035,\n",
              "            0.5045,     0.50551,     0.50651,     0.50751,     0.50851,     0.50951,     0.51051,     0.51151,     0.51251,     0.51351,     0.51451,     0.51552,     0.51652,     0.51752,     0.51852,     0.51952,     0.52052,     0.52152,     0.52252,     0.52352,     0.52452,     0.52553,     0.52653,     0.52753,\n",
              "           0.52853,     0.52953,     0.53053,     0.53153,     0.53253,     0.53353,     0.53453,     0.53554,     0.53654,     0.53754,     0.53854,     0.53954,     0.54054,     0.54154,     0.54254,     0.54354,     0.54454,     0.54555,     0.54655,     0.54755,     0.54855,     0.54955,     0.55055,     0.55155,\n",
              "           0.55255,     0.55355,     0.55455,     0.55556,     0.55656,     0.55756,     0.55856,     0.55956,     0.56056,     0.56156,     0.56256,     0.56356,     0.56456,     0.56557,     0.56657,     0.56757,     0.56857,     0.56957,     0.57057,     0.57157,     0.57257,     0.57357,     0.57457,     0.57558,\n",
              "           0.57658,     0.57758,     0.57858,     0.57958,     0.58058,     0.58158,     0.58258,     0.58358,     0.58458,     0.58559,     0.58659,     0.58759,     0.58859,     0.58959,     0.59059,     0.59159,     0.59259,     0.59359,     0.59459,      0.5956,      0.5966,      0.5976,      0.5986,      0.5996,\n",
              "            0.6006,      0.6016,      0.6026,      0.6036,      0.6046,     0.60561,     0.60661,     0.60761,     0.60861,     0.60961,     0.61061,     0.61161,     0.61261,     0.61361,     0.61461,     0.61562,     0.61662,     0.61762,     0.61862,     0.61962,     0.62062,     0.62162,     0.62262,     0.62362,\n",
              "           0.62462,     0.62563,     0.62663,     0.62763,     0.62863,     0.62963,     0.63063,     0.63163,     0.63263,     0.63363,     0.63463,     0.63564,     0.63664,     0.63764,     0.63864,     0.63964,     0.64064,     0.64164,     0.64264,     0.64364,     0.64464,     0.64565,     0.64665,     0.64765,\n",
              "           0.64865,     0.64965,     0.65065,     0.65165,     0.65265,     0.65365,     0.65465,     0.65566,     0.65666,     0.65766,     0.65866,     0.65966,     0.66066,     0.66166,     0.66266,     0.66366,     0.66466,     0.66567,     0.66667,     0.66767,     0.66867,     0.66967,     0.67067,     0.67167,\n",
              "           0.67267,     0.67367,     0.67467,     0.67568,     0.67668,     0.67768,     0.67868,     0.67968,     0.68068,     0.68168,     0.68268,     0.68368,     0.68468,     0.68569,     0.68669,     0.68769,     0.68869,     0.68969,     0.69069,     0.69169,     0.69269,     0.69369,     0.69469,      0.6957,\n",
              "            0.6967,      0.6977,      0.6987,      0.6997,      0.7007,      0.7017,      0.7027,      0.7037,      0.7047,     0.70571,     0.70671,     0.70771,     0.70871,     0.70971,     0.71071,     0.71171,     0.71271,     0.71371,     0.71471,     0.71572,     0.71672,     0.71772,     0.71872,     0.71972,\n",
              "           0.72072,     0.72172,     0.72272,     0.72372,     0.72472,     0.72573,     0.72673,     0.72773,     0.72873,     0.72973,     0.73073,     0.73173,     0.73273,     0.73373,     0.73473,     0.73574,     0.73674,     0.73774,     0.73874,     0.73974,     0.74074,     0.74174,     0.74274,     0.74374,\n",
              "           0.74474,     0.74575,     0.74675,     0.74775,     0.74875,     0.74975,     0.75075,     0.75175,     0.75275,     0.75375,     0.75475,     0.75576,     0.75676,     0.75776,     0.75876,     0.75976,     0.76076,     0.76176,     0.76276,     0.76376,     0.76476,     0.76577,     0.76677,     0.76777,\n",
              "           0.76877,     0.76977,     0.77077,     0.77177,     0.77277,     0.77377,     0.77477,     0.77578,     0.77678,     0.77778,     0.77878,     0.77978,     0.78078,     0.78178,     0.78278,     0.78378,     0.78478,     0.78579,     0.78679,     0.78779,     0.78879,     0.78979,     0.79079,     0.79179,\n",
              "           0.79279,     0.79379,     0.79479,      0.7958,      0.7968,      0.7978,      0.7988,      0.7998,      0.8008,      0.8018,      0.8028,      0.8038,      0.8048,     0.80581,     0.80681,     0.80781,     0.80881,     0.80981,     0.81081,     0.81181,     0.81281,     0.81381,     0.81481,     0.81582,\n",
              "           0.81682,     0.81782,     0.81882,     0.81982,     0.82082,     0.82182,     0.82282,     0.82382,     0.82482,     0.82583,     0.82683,     0.82783,     0.82883,     0.82983,     0.83083,     0.83183,     0.83283,     0.83383,     0.83483,     0.83584,     0.83684,     0.83784,     0.83884,     0.83984,\n",
              "           0.84084,     0.84184,     0.84284,     0.84384,     0.84484,     0.84585,     0.84685,     0.84785,     0.84885,     0.84985,     0.85085,     0.85185,     0.85285,     0.85385,     0.85485,     0.85586,     0.85686,     0.85786,     0.85886,     0.85986,     0.86086,     0.86186,     0.86286,     0.86386,\n",
              "           0.86486,     0.86587,     0.86687,     0.86787,     0.86887,     0.86987,     0.87087,     0.87187,     0.87287,     0.87387,     0.87487,     0.87588,     0.87688,     0.87788,     0.87888,     0.87988,     0.88088,     0.88188,     0.88288,     0.88388,     0.88488,     0.88589,     0.88689,     0.88789,\n",
              "           0.88889,     0.88989,     0.89089,     0.89189,     0.89289,     0.89389,     0.89489,      0.8959,      0.8969,      0.8979,      0.8989,      0.8999,      0.9009,      0.9019,      0.9029,      0.9039,      0.9049,     0.90591,     0.90691,     0.90791,     0.90891,     0.90991,     0.91091,     0.91191,\n",
              "           0.91291,     0.91391,     0.91491,     0.91592,     0.91692,     0.91792,     0.91892,     0.91992,     0.92092,     0.92192,     0.92292,     0.92392,     0.92492,     0.92593,     0.92693,     0.92793,     0.92893,     0.92993,     0.93093,     0.93193,     0.93293,     0.93393,     0.93493,     0.93594,\n",
              "           0.93694,     0.93794,     0.93894,     0.93994,     0.94094,     0.94194,     0.94294,     0.94394,     0.94494,     0.94595,     0.94695,     0.94795,     0.94895,     0.94995,     0.95095,     0.95195,     0.95295,     0.95395,     0.95495,     0.95596,     0.95696,     0.95796,     0.95896,     0.95996,\n",
              "           0.96096,     0.96196,     0.96296,     0.96396,     0.96496,     0.96597,     0.96697,     0.96797,     0.96897,     0.96997,     0.97097,     0.97197,     0.97297,     0.97397,     0.97497,     0.97598,     0.97698,     0.97798,     0.97898,     0.97998,     0.98098,     0.98198,     0.98298,     0.98398,\n",
              "           0.98498,     0.98599,     0.98699,     0.98799,     0.98899,     0.98999,     0.99099,     0.99199,     0.99299,     0.99399,     0.99499,       0.996,       0.997,       0.998,       0.999,           1]), array([[    0.99303,     0.99303,     0.98258,     0.97909,     0.97909,     0.97909,     0.97909,     0.97909,     0.97909,     0.97909,     0.97909,     0.97909,     0.97909,     0.97909,     0.97909,     0.97909,     0.97909,     0.97909,     0.97909,     0.97909,     0.97909,     0.97909,     0.97909,\n",
              "            0.97909,     0.97909,     0.97909,     0.97909,     0.97909,     0.97909,     0.97909,     0.97909,     0.97909,     0.97909,     0.97561,     0.97561,     0.97561,     0.97561,     0.97561,     0.97213,     0.97003,     0.96864,     0.96864,     0.96864,     0.96516,     0.96516,     0.96516,\n",
              "            0.96516,     0.96516,     0.96516,     0.96516,     0.96167,     0.96167,     0.96167,     0.96167,     0.96167,     0.96167,     0.96167,     0.96167,     0.96167,     0.96167,     0.96167,     0.96167,     0.96167,     0.96167,     0.96167,     0.96167,     0.96167,     0.96167,     0.96167,\n",
              "            0.96167,     0.96167,     0.96167,     0.96167,     0.96167,     0.96167,     0.96167,     0.96167,     0.96167,     0.96167,     0.96167,     0.96167,     0.96167,     0.96167,     0.96167,     0.96167,     0.96167,     0.96167,     0.96167,     0.96167,     0.96167,     0.96167,     0.96167,\n",
              "            0.96167,     0.96167,     0.96167,     0.96167,     0.96167,     0.96167,     0.96167,     0.96167,     0.95819,     0.95819,     0.95819,     0.95819,     0.95819,     0.95819,     0.95819,     0.95819,     0.95819,     0.95819,     0.95819,     0.95819,     0.95819,     0.95819,     0.95819,\n",
              "            0.95819,     0.95819,     0.95819,     0.95819,     0.95819,     0.95819,     0.95819,     0.95819,     0.95819,     0.95819,     0.95819,     0.95819,     0.95819,     0.95819,     0.95819,     0.95819,     0.95819,     0.95819,     0.95819,     0.95819,     0.95819,     0.95819,     0.95819,\n",
              "            0.95819,     0.95819,     0.95819,     0.95819,     0.95819,     0.95819,     0.95819,     0.95819,     0.95819,     0.95819,     0.95819,     0.95819,     0.95819,     0.95819,     0.95743,     0.95629,     0.95515,     0.95336,     0.95122,     0.95122,     0.95122,     0.95122,     0.95122,\n",
              "            0.95122,     0.95122,     0.95122,     0.95122,     0.95122,     0.95122,     0.95122,     0.95122,     0.95122,     0.95122,     0.95122,     0.95122,     0.95122,     0.95122,     0.95122,     0.95122,     0.95122,     0.95122,     0.95122,     0.95122,     0.95122,     0.95122,     0.95122,\n",
              "            0.95122,     0.95122,     0.95122,     0.95119,     0.95069,     0.95019,     0.94969,     0.94919,     0.94869,     0.94819,     0.94774,     0.94631,     0.94303,     0.94113,     0.94077,     0.94077,     0.94056,     0.94032,     0.94009,     0.93985,     0.93961,     0.93937,     0.93913,\n",
              "             0.9389,     0.93866,     0.93842,     0.93818,     0.93794,      0.9377,     0.93747,     0.93728,     0.93728,     0.93728,     0.93728,     0.93728,     0.93728,     0.93728,     0.93728,     0.93728,     0.93728,     0.93728,     0.93728,     0.93728,     0.93728,     0.93728,     0.93728,\n",
              "            0.93553,      0.9338,      0.9338,      0.9338,      0.9338,      0.9338,      0.9338,      0.9338,      0.9338,      0.9338,      0.9338,      0.9338,      0.9338,      0.9338,      0.9338,      0.9338,      0.9338,      0.9338,      0.9338,      0.9338,      0.9338,      0.9338,     0.93315,\n",
              "            0.93196,     0.93077,     0.93031,     0.93031,     0.93031,     0.92683,     0.92683,     0.92683,     0.92683,     0.92683,     0.92683,     0.92683,     0.92683,     0.92683,     0.92683,     0.92683,     0.92683,     0.92683,     0.92683,     0.92683,     0.92683,     0.92683,     0.92683,\n",
              "            0.92683,     0.92683,     0.92683,     0.92683,     0.92683,     0.92683,     0.92683,     0.92683,     0.92683,     0.92683,     0.92683,     0.92683,     0.92683,     0.92683,     0.92683,     0.92683,     0.92683,     0.92683,     0.92683,     0.92683,     0.92683,     0.92683,     0.92683,\n",
              "            0.92683,     0.92683,     0.92683,     0.92683,     0.92683,     0.92683,     0.92683,     0.92683,     0.92683,     0.92683,     0.92683,     0.92683,     0.92683,     0.92683,     0.92683,     0.92683,     0.92683,     0.92683,     0.92683,     0.92683,     0.92683,     0.92683,     0.92683,\n",
              "            0.92683,     0.92683,     0.92683,     0.92683,     0.92683,     0.92683,     0.92683,     0.92683,     0.92683,     0.92683,     0.92683,     0.92683,     0.92683,     0.92683,     0.92683,     0.92683,     0.92683,     0.92683,     0.92683,     0.92683,     0.92683,     0.92683,     0.92683,\n",
              "            0.92683,     0.92683,     0.92683,     0.92683,     0.92683,     0.92683,     0.92683,     0.92683,     0.92683,     0.92683,     0.92683,     0.92683,     0.92334,     0.92334,     0.92334,     0.92334,     0.92334,     0.92334,     0.92334,     0.92334,     0.92334,     0.92334,     0.92334,\n",
              "            0.92334,     0.92334,     0.92334,     0.92334,     0.92334,     0.92334,     0.92334,     0.92334,     0.92334,     0.92334,     0.92334,     0.92334,     0.92334,     0.92334,     0.92334,     0.92334,     0.92334,     0.92334,     0.92316,     0.92288,     0.92259,      0.9223,     0.92202,\n",
              "            0.92173,     0.92145,     0.92116,     0.92088,     0.92059,      0.9203,     0.92002,     0.91986,     0.91986,     0.91986,     0.91986,     0.91986,     0.91986,     0.91986,     0.91986,     0.91986,     0.91986,     0.91968,     0.91878,     0.91789,       0.917,     0.91638,     0.91638,\n",
              "            0.91638,     0.91638,     0.91638,     0.91638,     0.91289,     0.91289,     0.91289,     0.91289,     0.91289,     0.91289,     0.91289,     0.91288,     0.91275,     0.91263,      0.9125,     0.91238,     0.91225,     0.91213,     0.91201,     0.91188,     0.91176,     0.91163,     0.91151,\n",
              "            0.91138,     0.91126,     0.91114,     0.91101,     0.91089,     0.91076,     0.91064,     0.91052,     0.91039,     0.91027,     0.91014,     0.91002,     0.90989,     0.90977,     0.90965,     0.90952,     0.90941,     0.90941,     0.90941,     0.90941,     0.90941,     0.90909,     0.90837,\n",
              "            0.90766,     0.90694,     0.90623,     0.90578,     0.90552,     0.90527,     0.90501,     0.90476,      0.9045,     0.90425,     0.90399,     0.90374,     0.90348,     0.90323,     0.90297,     0.90272,     0.90246,     0.90203,     0.90158,     0.90114,     0.90069,     0.90025,      0.8998,\n",
              "            0.89935,     0.89895,     0.89895,     0.89895,     0.89895,     0.89895,     0.89895,     0.89895,     0.89895,     0.89895,     0.89895,     0.89895,     0.89889,     0.89873,     0.89857,     0.89841,     0.89824,     0.89808,     0.89792,     0.89776,     0.89759,     0.89743,     0.89727,\n",
              "            0.89711,     0.89695,     0.89678,     0.89662,     0.89646,      0.8963,     0.89613,     0.89597,     0.89581,     0.89565,     0.89548,     0.89506,     0.89462,     0.89417,     0.89372,     0.89328,     0.89283,     0.89238,     0.89199,     0.89199,     0.89193,     0.89157,     0.89121,\n",
              "            0.89086,      0.8905,     0.89014,     0.88979,     0.88943,     0.88907,     0.88871,     0.88843,     0.88824,     0.88805,     0.88786,     0.88767,     0.88749,      0.8873,     0.88711,     0.88692,     0.88673,     0.88655,     0.88636,     0.88617,     0.88598,     0.88579,     0.88561,\n",
              "            0.88542,     0.88523,     0.88504,     0.88483,     0.88461,      0.8844,     0.88418,     0.88396,     0.88375,     0.88353,     0.88331,      0.8831,     0.88288,     0.88267,     0.88245,     0.88223,     0.88202,      0.8818,     0.88158,     0.88153,     0.88153,     0.88153,     0.88153,\n",
              "            0.88153,     0.88153,     0.88153,     0.88153,     0.88153,     0.88153,     0.88153,     0.88153,     0.88153,     0.88153,     0.88153,     0.88153,     0.88153,     0.88153,     0.88153,     0.88153,     0.87776,     0.87738,     0.87701,     0.87663,     0.87626,     0.87588,      0.8755,\n",
              "            0.87513,     0.87475,     0.87456,     0.87456,     0.87456,     0.87456,     0.87456,     0.87456,     0.87456,     0.87456,     0.87456,     0.87452,     0.87432,     0.87412,     0.87392,     0.87372,     0.87353,     0.87333,     0.87313,     0.87293,     0.87273,     0.87253,     0.87234,\n",
              "            0.87214,     0.87194,     0.87174,     0.87154,     0.87134,     0.87114,     0.87108,     0.87108,     0.87061,     0.86996,     0.86931,     0.86866,     0.86801,     0.86731,     0.86652,     0.86573,     0.86493,     0.86414,     0.86026,     0.85989,     0.85951,     0.85914,     0.85876,\n",
              "            0.85838,     0.85801,     0.85763,     0.85726,     0.85366,     0.85366,     0.85366,     0.85366,     0.85366,     0.85366,     0.85338,     0.85306,     0.85273,     0.85241,     0.85209,     0.85176,     0.85144,     0.85111,     0.85079,     0.85046,     0.85013,     0.84973,     0.84934,\n",
              "            0.84894,     0.84854,     0.84814,     0.84775,     0.84735,     0.84695,     0.84652,     0.84601,      0.8455,     0.84499,     0.84448,     0.84397,     0.84346,     0.84307,     0.84279,     0.84252,     0.84224,     0.84197,     0.84169,     0.84142,     0.84114,     0.84087,     0.84059,\n",
              "            0.84032,     0.84004,     0.83977,     0.83855,     0.83712,     0.83603,     0.83548,     0.83493,     0.83438,     0.83383,     0.83328,     0.83275,     0.83275,     0.83275,     0.83275,     0.83275,     0.83275,     0.83275,     0.83275,     0.83275,     0.83275,     0.83268,     0.83242,\n",
              "            0.83217,     0.83191,     0.83166,      0.8314,     0.83115,     0.83089,     0.83064,     0.83038,     0.83013,     0.82987,     0.82962,     0.82936,     0.82546,     0.82495,     0.82444,     0.82393,     0.82342,     0.82291,      0.8224,     0.82217,       0.822,     0.82183,     0.82167,\n",
              "             0.8215,     0.82134,     0.82117,       0.821,     0.82084,     0.82067,     0.82051,     0.82034,     0.82017,     0.82001,     0.81984,     0.81968,     0.81951,     0.81934,     0.81918,     0.81901,     0.81884,     0.81847,     0.81805,     0.81763,     0.81721,     0.81679,     0.81637,\n",
              "            0.81595,     0.81553,     0.81457,     0.81314,     0.81172,     0.81029,     0.80886,     0.80836,     0.80836,     0.80836,     0.80836,     0.80836,     0.80836,     0.80836,     0.80836,     0.80836,     0.80836,     0.80836,     0.80836,     0.80836,     0.80809,      0.8078,     0.80751,\n",
              "            0.80723,     0.80694,     0.80666,     0.80637,     0.80609,      0.8058,     0.80551,     0.80523,     0.80494,     0.80409,     0.80307,     0.80205,     0.80114,     0.80042,     0.79971,     0.79899,     0.79828,     0.79618,     0.79322,     0.79084,     0.78846,     0.78721,     0.78679,\n",
              "            0.78637,     0.78595,     0.78553,     0.78511,     0.78469,     0.78427,     0.78294,     0.78012,     0.77893,     0.77773,     0.77563,     0.77205,      0.7699,     0.76959,     0.76928,     0.76897,     0.76866,     0.76835,     0.76804,     0.76773,     0.76742,      0.7671,     0.76679,\n",
              "            0.76647,     0.76612,     0.76576,      0.7654,     0.76505,     0.76469,     0.76433,     0.76397,     0.76362,     0.76326,     0.76279,      0.7622,      0.7616,     0.76101,     0.76041,     0.75982,     0.75937,     0.75901,     0.75865,     0.75829,     0.75794,     0.75758,     0.75722,\n",
              "            0.75687,     0.75651,     0.75615,     0.75582,      0.7555,     0.75517,     0.75485,     0.75452,      0.7542,     0.75387,     0.75355,     0.75322,      0.7529,     0.75177,     0.74196,     0.74053,      0.7391,     0.73838,     0.73796,     0.73754,     0.73712,      0.7367,     0.73628,\n",
              "            0.73586,     0.73544,     0.73372,     0.73153,     0.73114,     0.73074,     0.73034,     0.72995,     0.72955,     0.72915,     0.72876,     0.72836,     0.72755,     0.72653,     0.72551,     0.72452,     0.72363,     0.72274,     0.72184,     0.72085,     0.71966,     0.71847,      0.7174,\n",
              "            0.71651,     0.71562,     0.71472,     0.71007,     0.70864,     0.70719,      0.7054,     0.70369,      0.7025,     0.70131,     0.69897,     0.69519,     0.69295,     0.69116,     0.68572,     0.68334,     0.68194,     0.68075,     0.67956,     0.67944,     0.67944,     0.67878,     0.67735,\n",
              "            0.67594,     0.67491,     0.67389,     0.67287,      0.6679,     0.66612,     0.66178,     0.66035,     0.65892,     0.65723,     0.65545,     0.64879,     0.64316,     0.64138,      0.6401,     0.63891,     0.63772,     0.63543,     0.63367,     0.63265,     0.63163,     0.63049,     0.62357,\n",
              "            0.62178,     0.61999,     0.61821,     0.61632,     0.61394,      0.6082,     0.60221,     0.59983,     0.59129,      0.5884,     0.58697,     0.58554,     0.57701,     0.57393,     0.57155,      0.5622,      0.5575,     0.54991,     0.54872,     0.54753,      0.5399,     0.53811,     0.53607,\n",
              "             0.5328,     0.53101,     0.52884,      0.5244,     0.52085,     0.51011,     0.50235,     0.47962,     0.47126,     0.46725,     0.46046,     0.44617,     0.42343,     0.41464,     0.39704,     0.36551,     0.34791,     0.33729,     0.30227,     0.29164,     0.26011,     0.25296,     0.21446,\n",
              "            0.19687,     0.16533,     0.12335,     0.10575,    0.088154,    0.049652,    0.039025,    0.021429,   0.0073174,           0,           0]]), 'Confidence', 'Recall']]\n",
              "fitness: 0.9206074295593154\n",
              "keys: ['metrics/precision(B)', 'metrics/recall(B)', 'metrics/mAP50(B)', 'metrics/mAP50-95(B)']\n",
              "maps: array([    0.91537])\n",
              "names: {0: 'Fire'}\n",
              "plot: True\n",
              "results_dict: {'metrics/precision(B)': 0.9499013454833662, 'metrics/recall(B)': 0.9094076655052264, 'metrics/mAP50(B)': 0.9677254407625925, 'metrics/mAP50-95(B)': 0.9153720949811734, 'fitness': 0.9206074295593154}\n",
              "save_dir: PosixPath('runs/detect/train2')\n",
              "speed: {'preprocess': 0.26836811296091784, 'inference': 4.805945710047779, 'loss': 0.009690355134490352, 'postprocess': 1.1089952200051123}\n",
              "task: 'detect'"
            ]
          },
          "metadata": {},
          "execution_count": 4
        }
      ],
      "source": [
        "from ultralytics import YOLO\n",
        "\n",
        "# Load YOLOv10n model from scratch\n",
        "model = YOLO(\"yolov10n.pt\")\n",
        "\n",
        "# Train the model\n",
        "model.train(data=\"/content/Fire-Dettection-2/data.yaml\", epochs=30, imgsz=640)"
      ]
    },
    {
      "cell_type": "markdown",
      "source": [
        "Testing the model with test data\n"
      ],
      "metadata": {
        "id": "HcCUKXWtuQH3"
      }
    },
    {
      "cell_type": "code",
      "source": [
        "from ultralytics import YOLO\n",
        "\n",
        "# Load a pre-trained YOLOv10n model\n",
        "model = YOLO(\"/content/runs/detect/train2/weights/best.pt\")\n",
        "\n",
        "# Perform object detection on an image\n",
        "results = model(\"/content/Fire-Dettection-2/test/images/large_-1194-_jpg.rf.b37a3ee840083d0240de3fe3dd159abd.jpg\")\n",
        "\n",
        "# Display the results\n",
        "results[0].show()"
      ],
      "metadata": {
        "id": "hR7lrxehvBb2"
      },
      "execution_count": null,
      "outputs": []
    },
    {
      "cell_type": "markdown",
      "source": [
        "Showing the Results from the Prediction"
      ],
      "metadata": {
        "id": "QVO3xwLWxP9N"
      }
    },
    {
      "cell_type": "code",
      "source": [
        "from IPython.display import Image\n",
        "\n",
        "Image(filename='/content/runs/detect/predict2/large_-1194-_jpg.rf.b37a3ee840083d0240de3fe3dd159abd.jpg', height=600)"
      ],
      "metadata": {
        "colab": {
          "base_uri": "https://localhost:8080/",
          "height": 617
        },
        "id": "eI_KTV1YwLKt",
        "outputId": "50472e25-64e5-4112-a961-ca033e5e617f"
      },
      "execution_count": 8,
      "outputs": [
        {
          "output_type": "execute_result",
          "data": {
            "image/jpeg": "[encoded data removed]",
            "text/plain": [
              "<IPython.core.display.Image object>"
            ]
          },
          "metadata": {
            "image/jpeg": {
              "height": 600
            }
          },
          "execution_count": 8
        }
      ]
    },
    {
      "cell_type": "markdown",
      "source": [
        "Validating the model with new data"
      ],
      "metadata": {
        "id": "bvB7kCIaxfR0"
      }
    },
    {
      "cell_type": "code",
      "source": [
        "from ultralytics import YOLO\n",
        "\n",
        "# Load a pre-trained YOLOv10n model\n",
        "model = YOLO(\"/content/runs/detect/train2/weights/best.pt\")\n",
        "\n",
        "# Perform object detection on an image\n",
        "results = model(\"/content/fire detection test.jpeg\",save=True, show=True)\n",
        "\n",
        "# Display the results\n",
        "results[0].show()"
      ],
      "metadata": {
        "colab": {
          "base_uri": "https://localhost:8080/"
        },
        "id": "J1Pox5sUxmri",
        "outputId": "fe13acb5-817c-4072-9e74-504a6ecba20e"
      },
      "execution_count": 11,
      "outputs": [
        {
          "output_type": "stream",
          "name": "stdout",
          "text": [
            "WARNING ⚠️ Environment does not support cv2.imshow() or PIL Image.show()\n",
            "\n",
            "\n",
            "image 1/1 /content/fire detection test.jpeg: 640x640 2 Fires, 29.4ms\n",
            "Speed: 5.1ms preprocess, 29.4ms inference, 0.8ms postprocess per image at shape (1, 3, 640, 640)\n",
            "Results saved to \u001b[1mruns/detect/predict3\u001b[0m\n"
          ]
        }
      ]
    },
    {
      "cell_type": "code",
      "source": [
        "# Show the newly predicted image from predict folder\n",
        "\n",
        "Image(filename='/content/runs/detect/predict3/fire detection test.jpeg', height=600)\n"
      ],
      "metadata": {
        "colab": {
          "base_uri": "https://localhost:8080/",
          "height": 617
        },
        "id": "pVBLpmgP0M1Y",
        "outputId": "ce72eb19-57ed-4048-88a5-7a5bf25b2759"
      },
      "execution_count": 12,
      "outputs": [
        {
          "output_type": "execute_result",
          "data": {
            "image/jpeg": "[encoded data removed]",
            "text/plain": [
              "<IPython.core.display.Image object>"
            ]
          },
          "metadata": {
            "image/jpeg": {
              "height": 600
            }
          },
          "execution_count": 12
        }
      ]
    },
    {
      "cell_type": "markdown",
      "source": [
        "Showing"
      ],
      "metadata": {
        "id": "8ppQfsIFzLKQ"
      }
    }
  ]
}